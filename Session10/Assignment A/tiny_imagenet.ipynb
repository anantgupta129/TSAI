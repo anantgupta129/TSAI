{
  "nbformat": 4,
  "nbformat_minor": 0,
  "metadata": {
    "kernelspec": {
      "name": "python3",
      "display_name": "Python 3"
    },
    "colab": {
      "name": "tiny_imagenet.ipynb",
      "provenance": [],
      "collapsed_sections": [],
      "include_colab_link": true
    },
    "widgets": {
      "application/vnd.jupyter.widget-state+json": {
        "ed291dc9a65c45d18ac4d201362a84be": {
          "model_module": "@jupyter-widgets/controls",
          "model_name": "HBoxModel",
          "state": {
            "_view_name": "HBoxView",
            "_dom_classes": [],
            "_model_name": "HBoxModel",
            "_view_module": "@jupyter-widgets/controls",
            "_model_module_version": "1.5.0",
            "_view_count": null,
            "_view_module_version": "1.5.0",
            "box_style": "",
            "layout": "IPY_MODEL_d5cb1b74b9894a4dbbbac1b047059b1e",
            "_model_module": "@jupyter-widgets/controls",
            "children": [
              "IPY_MODEL_85cf1f92555f49f59b3967a6a73a6f7a",
              "IPY_MODEL_c3afe555b94f490da8dc59d0ddc375c8"
            ]
          }
        },
        "d5cb1b74b9894a4dbbbac1b047059b1e": {
          "model_module": "@jupyter-widgets/base",
          "model_name": "LayoutModel",
          "state": {
            "_view_name": "LayoutView",
            "grid_template_rows": null,
            "right": null,
            "justify_content": null,
            "_view_module": "@jupyter-widgets/base",
            "overflow": null,
            "_model_module_version": "1.2.0",
            "_view_count": null,
            "flex_flow": null,
            "width": null,
            "min_width": null,
            "border": null,
            "align_items": null,
            "bottom": null,
            "_model_module": "@jupyter-widgets/base",
            "top": null,
            "grid_column": null,
            "overflow_y": null,
            "overflow_x": null,
            "grid_auto_flow": null,
            "grid_area": null,
            "grid_template_columns": null,
            "flex": null,
            "_model_name": "LayoutModel",
            "justify_items": null,
            "grid_row": null,
            "max_height": null,
            "align_content": null,
            "visibility": null,
            "align_self": null,
            "height": null,
            "min_height": null,
            "padding": null,
            "grid_auto_rows": null,
            "grid_gap": null,
            "max_width": null,
            "order": null,
            "_view_module_version": "1.2.0",
            "grid_template_areas": null,
            "object_position": null,
            "object_fit": null,
            "grid_auto_columns": null,
            "margin": null,
            "display": null,
            "left": null
          }
        },
        "85cf1f92555f49f59b3967a6a73a6f7a": {
          "model_module": "@jupyter-widgets/controls",
          "model_name": "FloatProgressModel",
          "state": {
            "_view_name": "ProgressView",
            "style": "IPY_MODEL_5d0c593a6b6d4d68acc2cd258aa8ba3e",
            "_dom_classes": [],
            "description": "100%",
            "_model_name": "FloatProgressModel",
            "bar_style": "success",
            "max": 100,
            "_view_module": "@jupyter-widgets/controls",
            "_model_module_version": "1.5.0",
            "value": 100,
            "_view_count": null,
            "_view_module_version": "1.5.0",
            "orientation": "horizontal",
            "min": 0,
            "description_tooltip": null,
            "_model_module": "@jupyter-widgets/controls",
            "layout": "IPY_MODEL_bd5e335fa442497f8fe7811e06104a20"
          }
        },
        "c3afe555b94f490da8dc59d0ddc375c8": {
          "model_module": "@jupyter-widgets/controls",
          "model_name": "HTMLModel",
          "state": {
            "_view_name": "HTMLView",
            "style": "IPY_MODEL_13a08cb7cb7a442e8d0e82de544fa7ec",
            "_dom_classes": [],
            "description": "",
            "_model_name": "HTMLModel",
            "placeholder": "​",
            "_view_module": "@jupyter-widgets/controls",
            "_model_module_version": "1.5.0",
            "value": " 100/100 [01:40&lt;00:00,  1.00s/it]",
            "_view_count": null,
            "_view_module_version": "1.5.0",
            "description_tooltip": null,
            "_model_module": "@jupyter-widgets/controls",
            "layout": "IPY_MODEL_ddf3474ea17241229aa096bd11b7d6bc"
          }
        },
        "5d0c593a6b6d4d68acc2cd258aa8ba3e": {
          "model_module": "@jupyter-widgets/controls",
          "model_name": "ProgressStyleModel",
          "state": {
            "_view_name": "StyleView",
            "_model_name": "ProgressStyleModel",
            "description_width": "initial",
            "_view_module": "@jupyter-widgets/base",
            "_model_module_version": "1.5.0",
            "_view_count": null,
            "_view_module_version": "1.2.0",
            "bar_color": null,
            "_model_module": "@jupyter-widgets/controls"
          }
        },
        "bd5e335fa442497f8fe7811e06104a20": {
          "model_module": "@jupyter-widgets/base",
          "model_name": "LayoutModel",
          "state": {
            "_view_name": "LayoutView",
            "grid_template_rows": null,
            "right": null,
            "justify_content": null,
            "_view_module": "@jupyter-widgets/base",
            "overflow": null,
            "_model_module_version": "1.2.0",
            "_view_count": null,
            "flex_flow": null,
            "width": null,
            "min_width": null,
            "border": null,
            "align_items": null,
            "bottom": null,
            "_model_module": "@jupyter-widgets/base",
            "top": null,
            "grid_column": null,
            "overflow_y": null,
            "overflow_x": null,
            "grid_auto_flow": null,
            "grid_area": null,
            "grid_template_columns": null,
            "flex": null,
            "_model_name": "LayoutModel",
            "justify_items": null,
            "grid_row": null,
            "max_height": null,
            "align_content": null,
            "visibility": null,
            "align_self": null,
            "height": null,
            "min_height": null,
            "padding": null,
            "grid_auto_rows": null,
            "grid_gap": null,
            "max_width": null,
            "order": null,
            "_view_module_version": "1.2.0",
            "grid_template_areas": null,
            "object_position": null,
            "object_fit": null,
            "grid_auto_columns": null,
            "margin": null,
            "display": null,
            "left": null
          }
        },
        "13a08cb7cb7a442e8d0e82de544fa7ec": {
          "model_module": "@jupyter-widgets/controls",
          "model_name": "DescriptionStyleModel",
          "state": {
            "_view_name": "StyleView",
            "_model_name": "DescriptionStyleModel",
            "description_width": "",
            "_view_module": "@jupyter-widgets/base",
            "_model_module_version": "1.5.0",
            "_view_count": null,
            "_view_module_version": "1.2.0",
            "_model_module": "@jupyter-widgets/controls"
          }
        },
        "ddf3474ea17241229aa096bd11b7d6bc": {
          "model_module": "@jupyter-widgets/base",
          "model_name": "LayoutModel",
          "state": {
            "_view_name": "LayoutView",
            "grid_template_rows": null,
            "right": null,
            "justify_content": null,
            "_view_module": "@jupyter-widgets/base",
            "overflow": null,
            "_model_module_version": "1.2.0",
            "_view_count": null,
            "flex_flow": null,
            "width": null,
            "min_width": null,
            "border": null,
            "align_items": null,
            "bottom": null,
            "_model_module": "@jupyter-widgets/base",
            "top": null,
            "grid_column": null,
            "overflow_y": null,
            "overflow_x": null,
            "grid_auto_flow": null,
            "grid_area": null,
            "grid_template_columns": null,
            "flex": null,
            "_model_name": "LayoutModel",
            "justify_items": null,
            "grid_row": null,
            "max_height": null,
            "align_content": null,
            "visibility": null,
            "align_self": null,
            "height": null,
            "min_height": null,
            "padding": null,
            "grid_auto_rows": null,
            "grid_gap": null,
            "max_width": null,
            "order": null,
            "_view_module_version": "1.2.0",
            "grid_template_areas": null,
            "object_position": null,
            "object_fit": null,
            "grid_auto_columns": null,
            "margin": null,
            "display": null,
            "left": null
          }
        }
      }
    },
    "language_info": {
      "name": "python"
    },
    "accelerator": "GPU"
  },
  "cells": [
    {
      "cell_type": "markdown",
      "metadata": {
        "id": "view-in-github",
        "colab_type": "text"
      },
      "source": [
        "<a href=\"https://colab.research.google.com/github/vivek-a81/EVA6/blob/main/Session10/Assignment%20A/tiny_imagenet.ipynb\" target=\"_parent\"><img src=\"https://colab.research.google.com/assets/colab-badge.svg\" alt=\"Open In Colab\"/></a>"
      ]
    },
    {
      "cell_type": "code",
      "metadata": {
        "colab": {
          "base_uri": "https://localhost:8080/"
        },
        "id": "0buSnujotolX",
        "outputId": "9d62af09-3fe8-48eb-dcc7-7b2ad1271d55"
      },
      "source": [
        "!git clone https://github.com/MittalNeha/vision_pytorch.git"
      ],
      "execution_count": 10,
      "outputs": [
        {
          "output_type": "stream",
          "text": [
            "fatal: destination path 'vision_pytorch' already exists and is not an empty directory.\n"
          ],
          "name": "stdout"
        }
      ]
    },
    {
      "cell_type": "code",
      "metadata": {
        "id": "a7aQ0rqANXeA",
        "colab": {
          "base_uri": "https://localhost:8080/"
        },
        "outputId": "5889d789-1728-4c56-aa68-9156b89ee54a"
      },
      "source": [
        "!pip install --upgrade albumentations"
      ],
      "execution_count": 1,
      "outputs": [
        {
          "output_type": "stream",
          "text": [
            "Requirement already up-to-date: albumentations in /usr/local/lib/python3.7/dist-packages (1.0.3)\n",
            "Requirement already satisfied, skipping upgrade: numpy>=1.11.1 in /usr/local/lib/python3.7/dist-packages (from albumentations) (1.19.5)\n",
            "Requirement already satisfied, skipping upgrade: scikit-image>=0.16.1 in /usr/local/lib/python3.7/dist-packages (from albumentations) (0.16.2)\n",
            "Requirement already satisfied, skipping upgrade: scipy in /usr/local/lib/python3.7/dist-packages (from albumentations) (1.4.1)\n",
            "Requirement already satisfied, skipping upgrade: PyYAML in /usr/local/lib/python3.7/dist-packages (from albumentations) (3.13)\n",
            "Requirement already satisfied, skipping upgrade: opencv-python-headless>=4.1.1 in /usr/local/lib/python3.7/dist-packages (from albumentations) (4.5.3.56)\n",
            "Requirement already satisfied, skipping upgrade: PyWavelets>=0.4.0 in /usr/local/lib/python3.7/dist-packages (from scikit-image>=0.16.1->albumentations) (1.1.1)\n",
            "Requirement already satisfied, skipping upgrade: imageio>=2.3.0 in /usr/local/lib/python3.7/dist-packages (from scikit-image>=0.16.1->albumentations) (2.4.1)\n",
            "Requirement already satisfied, skipping upgrade: networkx>=2.0 in /usr/local/lib/python3.7/dist-packages (from scikit-image>=0.16.1->albumentations) (2.5.1)\n",
            "Requirement already satisfied, skipping upgrade: pillow>=4.3.0 in /usr/local/lib/python3.7/dist-packages (from scikit-image>=0.16.1->albumentations) (7.1.2)\n",
            "Requirement already satisfied, skipping upgrade: matplotlib!=3.0.0,>=2.0.0 in /usr/local/lib/python3.7/dist-packages (from scikit-image>=0.16.1->albumentations) (3.2.2)\n",
            "Requirement already satisfied, skipping upgrade: decorator<5,>=4.3 in /usr/local/lib/python3.7/dist-packages (from networkx>=2.0->scikit-image>=0.16.1->albumentations) (4.4.2)\n",
            "Requirement already satisfied, skipping upgrade: kiwisolver>=1.0.1 in /usr/local/lib/python3.7/dist-packages (from matplotlib!=3.0.0,>=2.0.0->scikit-image>=0.16.1->albumentations) (1.3.1)\n",
            "Requirement already satisfied, skipping upgrade: pyparsing!=2.0.4,!=2.1.2,!=2.1.6,>=2.0.1 in /usr/local/lib/python3.7/dist-packages (from matplotlib!=3.0.0,>=2.0.0->scikit-image>=0.16.1->albumentations) (2.4.7)\n",
            "Requirement already satisfied, skipping upgrade: python-dateutil>=2.1 in /usr/local/lib/python3.7/dist-packages (from matplotlib!=3.0.0,>=2.0.0->scikit-image>=0.16.1->albumentations) (2.8.1)\n",
            "Requirement already satisfied, skipping upgrade: cycler>=0.10 in /usr/local/lib/python3.7/dist-packages (from matplotlib!=3.0.0,>=2.0.0->scikit-image>=0.16.1->albumentations) (0.10.0)\n",
            "Requirement already satisfied, skipping upgrade: six>=1.5 in /usr/local/lib/python3.7/dist-packages (from python-dateutil>=2.1->matplotlib!=3.0.0,>=2.0.0->scikit-image>=0.16.1->albumentations) (1.15.0)\n"
          ],
          "name": "stdout"
        }
      ]
    },
    {
      "cell_type": "code",
      "metadata": {
        "colab": {
          "base_uri": "https://localhost:8080/"
        },
        "id": "N99kGri4xr-c",
        "outputId": "ffdd1fba-d8fc-4b96-80c0-dde06ed27eec"
      },
      "source": [
        "!pip install torch-lr-finder"
      ],
      "execution_count": 2,
      "outputs": [
        {
          "output_type": "stream",
          "text": [
            "Requirement already satisfied: torch-lr-finder in /usr/local/lib/python3.7/dist-packages (0.2.1)\n",
            "Requirement already satisfied: torch>=0.4.1 in /usr/local/lib/python3.7/dist-packages (from torch-lr-finder) (1.9.0+cu102)\n",
            "Requirement already satisfied: tqdm in /usr/local/lib/python3.7/dist-packages (from torch-lr-finder) (4.41.1)\n",
            "Requirement already satisfied: numpy in /usr/local/lib/python3.7/dist-packages (from torch-lr-finder) (1.19.5)\n",
            "Requirement already satisfied: packaging in /usr/local/lib/python3.7/dist-packages (from torch-lr-finder) (21.0)\n",
            "Requirement already satisfied: matplotlib in /usr/local/lib/python3.7/dist-packages (from torch-lr-finder) (3.2.2)\n",
            "Requirement already satisfied: typing-extensions in /usr/local/lib/python3.7/dist-packages (from torch>=0.4.1->torch-lr-finder) (3.7.4.3)\n",
            "Requirement already satisfied: pyparsing>=2.0.2 in /usr/local/lib/python3.7/dist-packages (from packaging->torch-lr-finder) (2.4.7)\n",
            "Requirement already satisfied: kiwisolver>=1.0.1 in /usr/local/lib/python3.7/dist-packages (from matplotlib->torch-lr-finder) (1.3.1)\n",
            "Requirement already satisfied: cycler>=0.10 in /usr/local/lib/python3.7/dist-packages (from matplotlib->torch-lr-finder) (0.10.0)\n",
            "Requirement already satisfied: python-dateutil>=2.1 in /usr/local/lib/python3.7/dist-packages (from matplotlib->torch-lr-finder) (2.8.1)\n",
            "Requirement already satisfied: six in /usr/local/lib/python3.7/dist-packages (from cycler>=0.10->matplotlib->torch-lr-finder) (1.15.0)\n"
          ],
          "name": "stdout"
        }
      ]
    },
    {
      "cell_type": "code",
      "metadata": {
        "id": "uTVBHHAC1JDE",
        "colab": {
          "base_uri": "https://localhost:8080/"
        },
        "outputId": "be54ead6-ac5c-4769-df19-e00fe9ac7aa7"
      },
      "source": [
        "from google.colab import drive\n",
        "drive.mount('/gdrive')"
      ],
      "execution_count": 13,
      "outputs": [
        {
          "output_type": "stream",
          "text": [
            "Go to this URL in a browser: https://accounts.google.com/o/oauth2/auth?client_id=947318989803-6bn6qk8qdgf4n4g3pfee6491hc0brc4i.apps.googleusercontent.com&redirect_uri=urn%3aietf%3awg%3aoauth%3a2.0%3aoob&scope=email%20https%3a%2f%2fwww.googleapis.com%2fauth%2fdocs.test%20https%3a%2f%2fwww.googleapis.com%2fauth%2fdrive%20https%3a%2f%2fwww.googleapis.com%2fauth%2fdrive.photos.readonly%20https%3a%2f%2fwww.googleapis.com%2fauth%2fpeopleapi.readonly%20https%3a%2f%2fwww.googleapis.com%2fauth%2fdrive.activity.readonly%20https%3a%2f%2fwww.googleapis.com%2fauth%2fexperimentsandconfigs%20https%3a%2f%2fwww.googleapis.com%2fauth%2fphotos.native&response_type=code\n",
            "\n",
            "Enter your authorization code:\n",
            "4/1AX4XfWgk8RyUHOD23tfo-fXt9ahrCiXmyRoAmlEAvPiqWc63y7V2KyyEH6Y\n",
            "Mounted at /gdrive\n"
          ],
          "name": "stdout"
        }
      ]
    },
    {
      "cell_type": "code",
      "metadata": {
        "id": "K3MpyBp74bzA"
      },
      "source": [
        "!unzip -q /gdrive/MyDrive/EVA6/Session10/tiny-imagenet-200.zip "
      ],
      "execution_count": 14,
      "outputs": []
    },
    {
      "cell_type": "code",
      "metadata": {
        "id": "hxF71Or1MSrF"
      },
      "source": [
        "import torch\n",
        "from torchsummary import summary\n",
        "\n",
        "import albumentations as A\n",
        "from albumentations.pytorch import ToTensorV2\n",
        "\n",
        "from vision_pytorch.dataloaders.tiny_image_net import get_id_dictionary, get_data, ImagenetDataset\n",
        "from vision_pytorch.utils import datastats, lr_finder, plotting, dump_list\n",
        "from vision_pytorch.models import resnet\n",
        "from vision_pytorch.main import fit_model\n",
        "\n",
        "from torch_lr_finder import LRFinder\n",
        "import torch.nn as nn"
      ],
      "execution_count": 3,
      "outputs": []
    },
    {
      "cell_type": "code",
      "metadata": {
        "id": "HGmFZmcp3XRl"
      },
      "source": [
        "# import Visionrepo\n",
        "# import importlib\n",
        "# importlib.reload(Visionrepo.dataloaders.tiny_image_net)\n",
        "# from Visionrepo.dataloaders.tiny_image_net import ImagenetDataset"
      ],
      "execution_count": 16,
      "outputs": []
    },
    {
      "cell_type": "code",
      "metadata": {
        "id": "nAH4mQNdRPil"
      },
      "source": [
        "# importlib.reload(Visionrepo.models)\n",
        "# from Visionrepo.main import fit_model"
      ],
      "execution_count": 17,
      "outputs": []
    },
    {
      "cell_type": "code",
      "metadata": {
        "id": "9ocdThR0MSrK"
      },
      "source": [
        "\n",
        "dataset_path = \"/content/tiny-imagenet-200/\"\n"
      ],
      "execution_count": 4,
      "outputs": []
    },
    {
      "cell_type": "code",
      "metadata": {
        "colab": {
          "base_uri": "https://localhost:8080/"
        },
        "id": "0o1KrUMSMSrN",
        "outputId": "0a773221-377b-43d0-86a5-144d1bf9d6f1"
      },
      "source": [
        "use_cuda = torch.cuda.is_available()\n",
        "device = torch.device(\"cuda\" if use_cuda else \"cpu\")\n",
        "\n",
        "print(\"CUDA Available:\", use_cuda)\n",
        "print(\"Selected Device:\", device)\n",
        "SEED = 1\n",
        "# For reproducibility\n",
        "torch.manual_seed(SEED)\n",
        "\n",
        "if use_cuda:\n",
        "    torch.cuda.manual_seed(SEED)\n",
        "    BATCH_SIZE=256\n",
        "else:\n",
        "    BATCH_SIZE=32\n",
        "print(\"Batch Size\", BATCH_SIZE)"
      ],
      "execution_count": 5,
      "outputs": [
        {
          "output_type": "stream",
          "text": [
            "CUDA Available: True\n",
            "Selected Device: cuda\n",
            "Batch Size 256\n"
          ],
          "name": "stdout"
        }
      ]
    },
    {
      "cell_type": "code",
      "metadata": {
        "colab": {
          "base_uri": "https://localhost:8080/"
        },
        "id": "9QzNXWr26HH5",
        "outputId": "a9af0243-eb2b-496c-cfd3-0eededc3f006"
      },
      "source": [
        "X_train, X_test, y_train, y_test = get_data(dataset_path)\n",
        "# dataset = ImagenetDataset(X_train, y_train, train_transform)"
      ],
      "execution_count": 6,
      "outputs": [
        {
          "output_type": "stream",
          "text": [
            "starting loading data\n",
            "finished loading data, in 0.12516236305236816 seconds\n",
            "Samples for training: 70000\n",
            "Samples for testing: 30000\n"
          ],
          "name": "stdout"
        }
      ]
    },
    {
      "cell_type": "code",
      "metadata": {
        "colab": {
          "base_uri": "https://localhost:8080/"
        },
        "id": "6C8qhOFuxVvY",
        "outputId": "9834dc34-9ddf-4a8e-a3df-ab3afe102fc4"
      },
      "source": [
        "exp_data = ImagenetDataset(X_train, y_train)\n",
        "exp = torch.utils.data.DataLoader(exp_data , batch_size=BATCH_SIZE,\n",
        "                                          shuffle=True, num_workers=2)\n",
        "\n",
        "mean, std = datastats.get_mean_std(exp)"
      ],
      "execution_count": 7,
      "outputs": [
        {
          "output_type": "stream",
          "text": [
            "The mean of dataset :  tensor([0.4803, 0.4482, 0.3976])\n",
            "The std of dataset :  tensor([0.2766, 0.2691, 0.2819])\n"
          ],
          "name": "stdout"
        }
      ]
    },
    {
      "cell_type": "code",
      "metadata": {
        "id": "pcsJfWLe9HCz"
      },
      "source": [
        "# mean = np.array([0.4809, 0.4488, 0.3988])\n",
        "# std = np.array([0.2766, 0.2690, 0.2824])"
      ],
      "execution_count": null,
      "outputs": []
    },
    {
      "cell_type": "code",
      "metadata": {
        "id": "_VWHyLmJMSrP"
      },
      "source": [
        "exp = torch.utils.data.DataLoader(ImagenetDataset(X_train, y_train) , batch_size=BATCH_SIZE,\n",
        "                                          shuffle=True, num_workers=2)\n",
        "\n",
        "# mean, std = get_mean_std(exp)"
      ],
      "execution_count": 8,
      "outputs": []
    },
    {
      "cell_type": "code",
      "metadata": {
        "id": "7CNXZSzcInq3"
      },
      "source": [
        "# unique, counts = np.unique(y_test, return_counts=True)"
      ],
      "execution_count": null,
      "outputs": []
    },
    {
      "cell_type": "code",
      "metadata": {
        "id": "lMEZGyiJIwjO"
      },
      "source": [
        "# plt.bar(unique, counts, 1 )\n",
        "# plt.title('Class Frequency')\n",
        "# plt.xlabel('Class')\n",
        "# plt.ylabel('Frequency')\n"
      ],
      "execution_count": null,
      "outputs": []
    },
    {
      "cell_type": "code",
      "metadata": {
        "id": "CRgKxvp1MSrR"
      },
      "source": [
        "plot_aug({\n",
        "    'Original Image': None,\n",
        "    'Random Crop': A.Sequential([A.CropAndPad(px=4, keep_size=False), #padding of 2, keep_size=True by default\n",
        "                  A.RandomCrop(64,64)]),\n",
        "    'Cut Out': A.CoarseDropout(max_holes=1, max_height=24, max_width=24, min_holes=1, min_height=8, \n",
        "                               min_width=8, fill_value=([0.4803*255, 0.4482*255, 0.3976*255]), mask_fill_value=None, always_apply=True),\n",
        "    'Horizontal Flip': A.HorizontalFlip(always_apply=True),\n",
        "    'Vertical Flip': A.VerticalFlip(always_apply=True),\n",
        "    'Rotate' :  A.Rotate(limit = 30, always_apply=True)\n",
        "    \n",
        "}, data=exp.dataset)"
      ],
      "execution_count": null,
      "outputs": []
    },
    {
      "cell_type": "code",
      "metadata": {
        "id": "6z2MEKHyMSrS"
      },
      "source": [
        "train_transform = A.Compose([\n",
        "  \n",
        "  A.PadIfNeeded(min_height=76, min_width=76, always_apply=True),\n",
        "  A.RandomCrop(64,64),\n",
        "  A.Rotate(limit=15),\n",
        "  A.CoarseDropout(1,24, 24, 1, 8, 8,fill_value=[m*255 for m in mean], mask_fill_value=None),\n",
        "  A.VerticalFlip(),\n",
        "  A.HorizontalFlip(),\n",
        "  A.Normalize(mean, std),\n",
        "  ToTensorV2()\n",
        "])\n",
        "\n",
        "test_transform = A.Compose([\n",
        "  A.Normalize(mean, std),\n",
        "  ToTensorV2()\n",
        "])\n",
        "\n",
        "train_loader = torch.utils.data.DataLoader(ImagenetDataset(X_train, y_train, train_transform) , batch_size=BATCH_SIZE,\n",
        "                                          shuffle=True, num_workers=2)\n",
        "test_loader = torch.utils.data.DataLoader(ImagenetDataset(X_test, y_test, test_transform), batch_size=BATCH_SIZE,\n",
        "                                           shuffle=False, num_workers=1)"
      ],
      "execution_count": 9,
      "outputs": []
    },
    {
      "cell_type": "code",
      "metadata": {
        "colab": {
          "base_uri": "https://localhost:8080/"
        },
        "id": "xlECznOyMSrU",
        "outputId": "4dd3ccd4-a95e-410c-b26d-ea3a95a17fb7"
      },
      "source": [
        "net = resnet.ResNet18(num_classes=200).to(device)\n",
        "summary(net, input_size=(3, 64, 64))"
      ],
      "execution_count": 10,
      "outputs": [
        {
          "output_type": "stream",
          "text": [
            "----------------------------------------------------------------\n",
            "        Layer (type)               Output Shape         Param #\n",
            "================================================================\n",
            "            Conv2d-1           [-1, 64, 64, 64]           1,728\n",
            "       BatchNorm2d-2           [-1, 64, 64, 64]             128\n",
            "            Conv2d-3           [-1, 64, 64, 64]          36,864\n",
            "       BatchNorm2d-4           [-1, 64, 64, 64]             128\n",
            "            Conv2d-5           [-1, 64, 64, 64]          36,864\n",
            "       BatchNorm2d-6           [-1, 64, 64, 64]             128\n",
            "        BasicBlock-7           [-1, 64, 64, 64]               0\n",
            "            Conv2d-8           [-1, 64, 64, 64]          36,864\n",
            "       BatchNorm2d-9           [-1, 64, 64, 64]             128\n",
            "           Conv2d-10           [-1, 64, 64, 64]          36,864\n",
            "      BatchNorm2d-11           [-1, 64, 64, 64]             128\n",
            "       BasicBlock-12           [-1, 64, 64, 64]               0\n",
            "           Conv2d-13          [-1, 128, 32, 32]          73,728\n",
            "      BatchNorm2d-14          [-1, 128, 32, 32]             256\n",
            "           Conv2d-15          [-1, 128, 32, 32]         147,456\n",
            "      BatchNorm2d-16          [-1, 128, 32, 32]             256\n",
            "           Conv2d-17          [-1, 128, 32, 32]           8,192\n",
            "      BatchNorm2d-18          [-1, 128, 32, 32]             256\n",
            "       BasicBlock-19          [-1, 128, 32, 32]               0\n",
            "           Conv2d-20          [-1, 128, 32, 32]         147,456\n",
            "      BatchNorm2d-21          [-1, 128, 32, 32]             256\n",
            "           Conv2d-22          [-1, 128, 32, 32]         147,456\n",
            "      BatchNorm2d-23          [-1, 128, 32, 32]             256\n",
            "       BasicBlock-24          [-1, 128, 32, 32]               0\n",
            "           Conv2d-25          [-1, 256, 16, 16]         294,912\n",
            "      BatchNorm2d-26          [-1, 256, 16, 16]             512\n",
            "           Conv2d-27          [-1, 256, 16, 16]         589,824\n",
            "      BatchNorm2d-28          [-1, 256, 16, 16]             512\n",
            "           Conv2d-29          [-1, 256, 16, 16]          32,768\n",
            "      BatchNorm2d-30          [-1, 256, 16, 16]             512\n",
            "       BasicBlock-31          [-1, 256, 16, 16]               0\n",
            "           Conv2d-32          [-1, 256, 16, 16]         589,824\n",
            "      BatchNorm2d-33          [-1, 256, 16, 16]             512\n",
            "           Conv2d-34          [-1, 256, 16, 16]         589,824\n",
            "      BatchNorm2d-35          [-1, 256, 16, 16]             512\n",
            "       BasicBlock-36          [-1, 256, 16, 16]               0\n",
            "           Conv2d-37            [-1, 512, 8, 8]       1,179,648\n",
            "      BatchNorm2d-38            [-1, 512, 8, 8]           1,024\n",
            "           Conv2d-39            [-1, 512, 8, 8]       2,359,296\n",
            "      BatchNorm2d-40            [-1, 512, 8, 8]           1,024\n",
            "           Conv2d-41            [-1, 512, 8, 8]         131,072\n",
            "      BatchNorm2d-42            [-1, 512, 8, 8]           1,024\n",
            "       BasicBlock-43            [-1, 512, 8, 8]               0\n",
            "           Conv2d-44            [-1, 512, 8, 8]       2,359,296\n",
            "      BatchNorm2d-45            [-1, 512, 8, 8]           1,024\n",
            "           Conv2d-46            [-1, 512, 8, 8]       2,359,296\n",
            "      BatchNorm2d-47            [-1, 512, 8, 8]           1,024\n",
            "       BasicBlock-48            [-1, 512, 8, 8]               0\n",
            "           Linear-49                  [-1, 200]         102,600\n",
            "================================================================\n",
            "Total params: 11,271,432\n",
            "Trainable params: 11,271,432\n",
            "Non-trainable params: 0\n",
            "----------------------------------------------------------------\n",
            "Input size (MB): 0.05\n",
            "Forward/backward pass size (MB): 45.00\n",
            "Params size (MB): 43.00\n",
            "Estimated Total Size (MB): 88.05\n",
            "----------------------------------------------------------------\n"
          ],
          "name": "stdout"
        }
      ]
    },
    {
      "cell_type": "code",
      "metadata": {
        "colab": {
          "base_uri": "https://localhost:8080/",
          "height": 382,
          "referenced_widgets": [
            "ed291dc9a65c45d18ac4d201362a84be",
            "d5cb1b74b9894a4dbbbac1b047059b1e",
            "85cf1f92555f49f59b3967a6a73a6f7a",
            "c3afe555b94f490da8dc59d0ddc375c8",
            "5d0c593a6b6d4d68acc2cd258aa8ba3e",
            "bd5e335fa442497f8fe7811e06104a20",
            "13a08cb7cb7a442e8d0e82de544fa7ec",
            "ddf3474ea17241229aa096bd11b7d6bc"
          ]
        },
        "id": "t5VYPY0hL-Nw",
        "outputId": "c2992112-b6be-412d-8c0e-1081ebd2c4c2"
      },
      "source": [
        "\n",
        "optimizer = torch.optim.SGD(net.parameters(), lr=0.01, momentum=0.9)\n",
        "# optimizer = torch.optim.Adam(net.parameters(), lr=0.01)\n",
        "criterion = nn.CrossEntropyLoss()\n",
        "\n",
        "lr_finder = LRFinder(net, optimizer, criterion, device=\"cuda\")\n",
        "lr_finder.range_test(train_loader, end_lr=10, num_iter=100, step_mode=\"exp\")\n",
        "lr_finder.plot()\n",
        "lr_finder.reset()"
      ],
      "execution_count": 11,
      "outputs": [
        {
          "output_type": "display_data",
          "data": {
            "application/vnd.jupyter.widget-view+json": {
              "model_id": "ed291dc9a65c45d18ac4d201362a84be",
              "version_minor": 0,
              "version_major": 2
            },
            "text/plain": [
              "HBox(children=(FloatProgress(value=0.0), HTML(value='')))"
            ]
          },
          "metadata": {
            "tags": []
          }
        },
        {
          "output_type": "stream",
          "text": [
            "\n",
            "Learning rate search finished. See the graph with {finder_name}.plot()\n",
            "LR suggestion: steepest gradient\n",
            "Suggested LR: 8.70E-01\n"
          ],
          "name": "stdout"
        },
        {
          "output_type": "display_data",
          "data": {
            "image/png": "[encoded data removed]",
            "text/plain": [
              "<Figure size 432x288 with 1 Axes>"
            ]
          },
          "metadata": {
            "tags": [],
            "needs_background": "light"
          }
        }
      ]
    },
    {
      "cell_type": "code",
      "metadata": {
        "id": "D9JnX6WkxD1F"
      },
      "source": [
        "ler_rate = 1.0"
      ],
      "execution_count": 12,
      "outputs": []
    },
    {
      "cell_type": "code",
      "metadata": {
        "colab": {
          "base_uri": "https://localhost:8080/"
        },
        "id": "2r6EkfsiMSrV",
        "outputId": "a83a26c0-34d8-485d-dabf-93e5e38303fa"
      },
      "source": [
        "\n",
        "optimizer = torch.optim.SGD(net.parameters(), lr=0.01, momentum=0.9)\n",
        "# optimizer = torch.optim.Adam(net.parameters(), lr=0.01)\n",
        "# schedular = torch.optim.lr_scheduler.ReduceLROnPlateau(optimizer, factor=np.sqrt(0.1), cooldown=0, patience=2, min_lr=0.5e-6, verbose=True)\n",
        "scheduler = torch.optim.lr_scheduler.OneCycleLR(optimizer, \n",
        "                                                max_lr=ler_rate,\n",
        "                                                steps_per_epoch=len(train_loader), \n",
        "                                                epochs=50,\n",
        "                                                pct_start=0.2,\n",
        "                                                div_factor=10,\n",
        "                                                three_phase=True, \n",
        "                                                # final_div_factor=50,\n",
        "                                                # anneal_strategy='linear'\n",
        "                                                )\n",
        "net, history = fit_model(\n",
        "    net=net, device=device,\n",
        "    train_loader=train_loader, test_loader=test_loader,\n",
        "    optimizer=optimizer,\n",
        "    scheduler=scheduler,\n",
        "    NUM_EPOCHS=50\n",
        ")"
      ],
      "execution_count": null,
      "outputs": [
        {
          "output_type": "stream",
          "text": [
            "\r  0%|          | 0/274 [00:00<?, ?it/s]"
          ],
          "name": "stderr"
        },
        {
          "output_type": "stream",
          "text": [
            "EPOCH: 1 (LR: 0.09999999999999998)\n"
          ],
          "name": "stdout"
        },
        {
          "output_type": "stream",
          "text": [
            "Batch_id=273 Loss=4.90132 Accuracy=3.95%: 100%|██████████| 274/274 [04:46<00:00,  1.05s/it]\n",
            "  0%|          | 0/274 [00:00<?, ?it/s]"
          ],
          "name": "stderr"
        },
        {
          "output_type": "stream",
          "text": [
            "\n",
            "Test set: Average loss: 4.7191, Accuracy: 1532/30000 (5.11%)\n",
            "\n",
            "EPOCH: 2 (LR: 0.12204052018964329)\n"
          ],
          "name": "stdout"
        },
        {
          "output_type": "stream",
          "text": [
            "Batch_id=273 Loss=4.38165 Accuracy=8.19%: 100%|██████████| 274/274 [04:46<00:00,  1.05s/it]\n",
            "  0%|          | 0/274 [00:00<?, ?it/s]"
          ],
          "name": "stderr"
        },
        {
          "output_type": "stream",
          "text": [
            "\n",
            "Test set: Average loss: 4.3348, Accuracy: 2638/30000 (8.79%)\n",
            "\n",
            "EPOCH: 3 (LR: 0.18600303840199484)\n"
          ],
          "name": "stdout"
        },
        {
          "output_type": "stream",
          "text": [
            "Batch_id=273 Loss=4.01142 Accuracy=12.95%: 100%|██████████| 274/274 [04:46<00:00,  1.05s/it]\n",
            "  0%|          | 0/274 [00:00<?, ?it/s]"
          ],
          "name": "stderr"
        },
        {
          "output_type": "stream",
          "text": [
            "\n",
            "Test set: Average loss: 3.9012, Accuracy: 4450/30000 (14.83%)\n",
            "\n",
            "EPOCH: 4 (LR: 0.2856219227524337)\n"
          ],
          "name": "stdout"
        },
        {
          "output_type": "stream",
          "text": [
            "Batch_id=273 Loss=3.70098 Accuracy=17.57%: 100%|██████████| 274/274 [04:46<00:00,  1.05s/it]\n",
            "  0%|          | 0/274 [00:00<?, ?it/s]"
          ],
          "name": "stderr"
        },
        {
          "output_type": "stream",
          "text": [
            "\n",
            "Test set: Average loss: 3.6910, Accuracy: 5497/30000 (18.32%)\n",
            "\n",
            "EPOCH: 5 (LR: 0.41113871976631267)\n"
          ],
          "name": "stdout"
        },
        {
          "output_type": "stream",
          "text": [
            "Batch_id=273 Loss=3.44632 Accuracy=21.78%: 100%|██████████| 274/274 [04:46<00:00,  1.05s/it]\n",
            "  0%|          | 0/274 [00:00<?, ?it/s]"
          ],
          "name": "stderr"
        },
        {
          "output_type": "stream",
          "text": [
            "\n",
            "Test set: Average loss: 3.4904, Accuracy: 6437/30000 (21.46%)\n",
            "\n",
            "EPOCH: 6 (LR: 0.5502580716715264)\n"
          ],
          "name": "stdout"
        },
        {
          "output_type": "stream",
          "text": [
            "Batch_id=273 Loss=3.22064 Accuracy=25.69%: 100%|██████████| 274/274 [04:47<00:00,  1.05s/it]\n",
            "  0%|          | 0/274 [00:00<?, ?it/s]"
          ],
          "name": "stderr"
        },
        {
          "output_type": "stream",
          "text": [
            "\n",
            "Test set: Average loss: 3.1842, Accuracy: 8072/30000 (26.91%)\n",
            "\n",
            "EPOCH: 7 (LR: 0.6893521434261327)\n"
          ],
          "name": "stdout"
        },
        {
          "output_type": "stream",
          "text": [
            "Batch_id=273 Loss=3.01683 Accuracy=29.48%: 100%|██████████| 274/274 [04:46<00:00,  1.05s/it]\n",
            "  0%|          | 0/274 [00:00<?, ?it/s]"
          ],
          "name": "stderr"
        },
        {
          "output_type": "stream",
          "text": [
            "\n",
            "Test set: Average loss: 3.1770, Accuracy: 8509/30000 (28.36%)\n",
            "\n",
            "EPOCH: 8 (LR: 0.8147955763778335)\n"
          ],
          "name": "stdout"
        },
        {
          "output_type": "stream",
          "text": [
            "Batch_id=273 Loss=2.84337 Accuracy=32.56%: 100%|██████████| 274/274 [04:46<00:00,  1.05s/it]\n",
            "  0%|          | 0/274 [00:00<?, ?it/s]"
          ],
          "name": "stderr"
        },
        {
          "output_type": "stream",
          "text": [
            "\n",
            "Test set: Average loss: 2.9397, Accuracy: 9525/30000 (31.75%)\n",
            "\n",
            "EPOCH: 9 (LR: 0.914300199341606)\n"
          ],
          "name": "stdout"
        },
        {
          "output_type": "stream",
          "text": [
            "Batch_id=273 Loss=2.68692 Accuracy=35.54%: 100%|██████████| 274/274 [04:46<00:00,  1.05s/it]\n",
            "  0%|          | 0/274 [00:00<?, ?it/s]"
          ],
          "name": "stderr"
        },
        {
          "output_type": "stream",
          "text": [
            "\n",
            "Test set: Average loss: 2.8270, Accuracy: 10240/30000 (34.13%)\n",
            "\n",
            "EPOCH: 10 (LR: 0.97811875164458)\n"
          ],
          "name": "stdout"
        },
        {
          "output_type": "stream",
          "text": [
            "Batch_id=273 Loss=2.54166 Accuracy=38.57%: 100%|██████████| 274/274 [04:47<00:00,  1.05s/it]\n",
            "  0%|          | 0/274 [00:00<?, ?it/s]"
          ],
          "name": "stderr"
        },
        {
          "output_type": "stream",
          "text": [
            "\n",
            "Test set: Average loss: 2.7857, Accuracy: 10669/30000 (35.56%)\n",
            "\n",
            "EPOCH: 11 (LR: 0.9999997039956104)\n"
          ],
          "name": "stdout"
        },
        {
          "output_type": "stream",
          "text": [
            "Batch_id=273 Loss=2.41371 Accuracy=41.12%: 100%|██████████| 274/274 [04:46<00:00,  1.05s/it]\n",
            "  0%|          | 0/274 [00:00<?, ?it/s]"
          ],
          "name": "stderr"
        },
        {
          "output_type": "stream",
          "text": [
            "\n",
            "Test set: Average loss: 2.7170, Accuracy: 11026/30000 (36.75%)\n",
            "\n",
            "EPOCH: 12 (LR: 0.9777996449633134)\n"
          ],
          "name": "stdout"
        },
        {
          "output_type": "stream",
          "text": [
            "Batch_id=273 Loss=2.29549 Accuracy=43.52%: 100%|██████████| 274/274 [04:46<00:00,  1.05s/it]\n",
            "  0%|          | 0/274 [00:00<?, ?it/s]"
          ],
          "name": "stderr"
        },
        {
          "output_type": "stream",
          "text": [
            "\n",
            "Test set: Average loss: 2.6931, Accuracy: 11428/30000 (38.09%)\n",
            "\n",
            "EPOCH: 13 (LR: 0.913693244989078)\n"
          ],
          "name": "stdout"
        },
        {
          "output_type": "stream",
          "text": [
            "Batch_id=273 Loss=2.17352 Accuracy=46.00%: 100%|██████████| 274/274 [04:46<00:00,  1.05s/it]\n",
            "  0%|          | 0/274 [00:00<?, ?it/s]"
          ],
          "name": "stderr"
        },
        {
          "output_type": "stream",
          "text": [
            "\n",
            "Test set: Average loss: 2.5104, Accuracy: 12395/30000 (41.32%)\n",
            "\n",
            "EPOCH: 14 (LR: 0.8139602303080931)\n"
          ],
          "name": "stdout"
        },
        {
          "output_type": "stream",
          "text": [
            "Batch_id=273 Loss=2.06377 Accuracy=48.37%: 100%|██████████| 274/274 [04:46<00:00,  1.05s/it]\n",
            "  0%|          | 0/274 [00:00<?, ?it/s]"
          ],
          "name": "stderr"
        },
        {
          "output_type": "stream",
          "text": [
            "\n",
            "Test set: Average loss: 2.5107, Accuracy: 12491/30000 (41.64%)\n",
            "\n",
            "EPOCH: 15 (LR: 0.6883702343588041)\n"
          ],
          "name": "stdout"
        },
        {
          "output_type": "stream",
          "text": [
            "Batch_id=273 Loss=1.94547 Accuracy=50.92%: 100%|██████████| 274/274 [04:46<00:00,  1.05s/it]\n",
            "  0%|          | 0/274 [00:00<?, ?it/s]"
          ],
          "name": "stderr"
        },
        {
          "output_type": "stream",
          "text": [
            "\n",
            "Test set: Average loss: 2.4327, Accuracy: 13051/30000 (43.50%)\n",
            "\n",
            "EPOCH: 16 (LR: 0.5492257853249334)\n"
          ],
          "name": "stdout"
        },
        {
          "output_type": "stream",
          "text": [
            "Batch_id=273 Loss=1.82431 Accuracy=53.42%: 100%|██████████| 274/274 [04:46<00:00,  1.05s/it]\n",
            "  0%|          | 0/274 [00:00<?, ?it/s]"
          ],
          "name": "stderr"
        },
        {
          "output_type": "stream",
          "text": [
            "\n",
            "Test set: Average loss: 2.4134, Accuracy: 13224/30000 (44.08%)\n",
            "\n",
            "EPOCH: 17 (LR: 0.41015717670962704)\n"
          ],
          "name": "stdout"
        },
        {
          "output_type": "stream",
          "text": [
            "Batch_id=273 Loss=1.69068 Accuracy=56.17%: 100%|██████████| 274/274 [04:46<00:00,  1.05s/it]\n",
            "  0%|          | 0/274 [00:00<?, ?it/s]"
          ],
          "name": "stderr"
        },
        {
          "output_type": "stream",
          "text": [
            "\n",
            "Test set: Average loss: 2.3340, Accuracy: 13901/30000 (46.34%)\n",
            "\n",
            "EPOCH: 18 (LR: 0.2847872728503567)\n"
          ],
          "name": "stdout"
        },
        {
          "output_type": "stream",
          "text": [
            "Batch_id=273 Loss=1.53996 Accuracy=59.85%: 100%|██████████| 274/274 [04:46<00:00,  1.05s/it]\n",
            "  0%|          | 0/274 [00:00<?, ?it/s]"
          ],
          "name": "stderr"
        },
        {
          "output_type": "stream",
          "text": [
            "\n",
            "Test set: Average loss: 2.3164, Accuracy: 14135/30000 (47.12%)\n",
            "\n",
            "EPOCH: 19 (LR: 0.18539704217905126)\n"
          ],
          "name": "stdout"
        },
        {
          "output_type": "stream",
          "text": [
            "Batch_id=273 Loss=1.38183 Accuracy=63.47%: 100%|██████████| 274/274 [04:46<00:00,  1.05s/it]\n",
            "  0%|          | 0/274 [00:00<?, ?it/s]"
          ],
          "name": "stderr"
        },
        {
          "output_type": "stream",
          "text": [
            "\n",
            "Test set: Average loss: 2.3166, Accuracy: 14426/30000 (48.09%)\n",
            "\n",
            "EPOCH: 20 (LR: 0.12172253974355138)\n"
          ],
          "name": "stdout"
        },
        {
          "output_type": "stream",
          "text": [
            "Batch_id=273 Loss=1.25957 Accuracy=66.36%: 100%|██████████| 274/274 [04:46<00:00,  1.05s/it]\n",
            "  0%|          | 0/274 [00:00<?, ?it/s]"
          ],
          "name": "stderr"
        },
        {
          "output_type": "stream",
          "text": [
            "\n",
            "Test set: Average loss: 2.2915, Accuracy: 14769/30000 (49.23%)\n",
            "\n",
            "EPOCH: 21 (LR: 0.09999998539817982)\n"
          ],
          "name": "stdout"
        },
        {
          "output_type": "stream",
          "text": [
            "Batch_id=273 Loss=1.18378 Accuracy=68.05%: 100%|██████████| 274/274 [04:46<00:00,  1.05s/it]\n",
            "  0%|          | 0/274 [00:00<?, ?it/s]"
          ],
          "name": "stderr"
        },
        {
          "output_type": "stream",
          "text": [
            "\n",
            "Test set: Average loss: 2.3380, Accuracy: 14691/30000 (48.97%)\n",
            "\n",
            "EPOCH: 22 (LR: 0.09972218060912916)\n"
          ],
          "name": "stdout"
        },
        {
          "output_type": "stream",
          "text": [
            "Batch_id=273 Loss=1.12822 Accuracy=69.19%: 100%|██████████| 274/274 [04:46<00:00,  1.05s/it]\n",
            "  0%|          | 0/274 [00:00<?, ?it/s]"
          ],
          "name": "stderr"
        },
        {
          "output_type": "stream",
          "text": [
            "\n",
            "Test set: Average loss: 2.3883, Accuracy: 14618/30000 (48.73%)\n",
            "\n",
            "EPOCH: 23 (LR: 0.09889979637336167)\n"
          ],
          "name": "stdout"
        },
        {
          "output_type": "stream",
          "text": [
            "Batch_id=273 Loss=1.08144 Accuracy=70.50%: 100%|██████████| 274/274 [04:46<00:00,  1.05s/it]\n",
            "  0%|          | 0/274 [00:00<?, ?it/s]"
          ],
          "name": "stderr"
        },
        {
          "output_type": "stream",
          "text": [
            "\n",
            "Test set: Average loss: 2.4136, Accuracy: 14747/30000 (49.16%)\n",
            "\n",
            "EPOCH: 24 (LR: 0.09754184071479619)\n"
          ],
          "name": "stdout"
        },
        {
          "output_type": "stream",
          "text": [
            "Batch_id=273 Loss=1.03384 Accuracy=71.71%: 100%|██████████| 274/274 [04:46<00:00,  1.05s/it]\n",
            "  0%|          | 0/274 [00:00<?, ?it/s]"
          ],
          "name": "stderr"
        },
        {
          "output_type": "stream",
          "text": [
            "\n",
            "Test set: Average loss: 2.4673, Accuracy: 14620/30000 (48.73%)\n",
            "\n",
            "EPOCH: 25 (LR: 0.09566318806380358)\n"
          ],
          "name": "stdout"
        },
        {
          "output_type": "stream",
          "text": [
            "Batch_id=273 Loss=0.98076 Accuracy=72.59%: 100%|██████████| 274/274 [04:47<00:00,  1.05s/it]\n",
            "  0%|          | 0/274 [00:00<?, ?it/s]"
          ],
          "name": "stderr"
        },
        {
          "output_type": "stream",
          "text": [
            "\n",
            "Test set: Average loss: 2.5007, Accuracy: 14683/30000 (48.94%)\n",
            "\n",
            "EPOCH: 26 (LR: 0.09328441632944298)\n"
          ],
          "name": "stdout"
        },
        {
          "output_type": "stream",
          "text": [
            "Batch_id=273 Loss=0.93433 Accuracy=73.77%: 100%|██████████| 274/274 [04:46<00:00,  1.05s/it]\n",
            "  0%|          | 0/274 [00:00<?, ?it/s]"
          ],
          "name": "stderr"
        },
        {
          "output_type": "stream",
          "text": [
            "\n",
            "Test set: Average loss: 2.5560, Accuracy: 14527/30000 (48.42%)\n",
            "\n",
            "EPOCH: 27 (LR: 0.09043158149837921)\n"
          ],
          "name": "stdout"
        },
        {
          "output_type": "stream",
          "text": [
            "Batch_id=273 Loss=0.87903 Accuracy=75.06%: 100%|██████████| 274/274 [04:46<00:00,  1.05s/it]\n",
            "  0%|          | 0/274 [00:00<?, ?it/s]"
          ],
          "name": "stderr"
        },
        {
          "output_type": "stream",
          "text": [
            "\n",
            "Test set: Average loss: 2.6271, Accuracy: 14456/30000 (48.19%)\n",
            "\n",
            "EPOCH: 28 (LR: 0.08713593222942277)\n"
          ],
          "name": "stdout"
        },
        {
          "output_type": "stream",
          "text": [
            "Batch_id=273 Loss=0.82606 Accuracy=76.52%: 100%|██████████| 274/274 [04:47<00:00,  1.05s/it]\n",
            "  0%|          | 0/274 [00:00<?, ?it/s]"
          ],
          "name": "stderr"
        },
        {
          "output_type": "stream",
          "text": [
            "\n",
            "Test set: Average loss: 2.6711, Accuracy: 14512/30000 (48.37%)\n",
            "\n",
            "EPOCH: 29 (LR: 0.08343356756989435)\n"
          ],
          "name": "stdout"
        },
        {
          "output_type": "stream",
          "text": [
            "Batch_id=273 Loss=0.77252 Accuracy=77.82%: 100%|██████████| 274/274 [04:46<00:00,  1.05s/it]\n",
            "  0%|          | 0/274 [00:00<?, ?it/s]"
          ],
          "name": "stderr"
        },
        {
          "output_type": "stream",
          "text": [
            "\n",
            "Test set: Average loss: 2.6756, Accuracy: 14539/30000 (48.46%)\n",
            "\n",
            "EPOCH: 30 (LR: 0.07936504154303357)\n"
          ],
          "name": "stdout"
        },
        {
          "output_type": "stream",
          "text": [
            "Batch_id=273 Loss=0.71807 Accuracy=79.34%: 100%|██████████| 274/274 [04:46<00:00,  1.05s/it]\n",
            "  0%|          | 0/274 [00:00<?, ?it/s]"
          ],
          "name": "stderr"
        },
        {
          "output_type": "stream",
          "text": [
            "\n",
            "Test set: Average loss: 2.7298, Accuracy: 14624/30000 (48.75%)\n",
            "\n",
            "EPOCH: 31 (LR: 0.074974918937622)\n"
          ],
          "name": "stdout"
        },
        {
          "output_type": "stream",
          "text": [
            "Batch_id=273 Loss=0.66889 Accuracy=80.58%: 100%|██████████| 274/274 [04:46<00:00,  1.05s/it]\n",
            "  0%|          | 0/274 [00:00<?, ?it/s]"
          ],
          "name": "stderr"
        },
        {
          "output_type": "stream",
          "text": [
            "\n",
            "Test set: Average loss: 2.8037, Accuracy: 14540/30000 (48.47%)\n",
            "\n",
            "EPOCH: 32 (LR: 0.07031128716549961)\n"
          ],
          "name": "stdout"
        },
        {
          "output_type": "stream",
          "text": [
            "Batch_id=273 Loss=0.61156 Accuracy=82.24%: 100%|██████████| 274/274 [04:46<00:00,  1.05s/it]\n",
            "  0%|          | 0/274 [00:00<?, ?it/s]"
          ],
          "name": "stderr"
        },
        {
          "output_type": "stream",
          "text": [
            "\n",
            "Test set: Average loss: 2.8271, Accuracy: 14624/30000 (48.75%)\n",
            "\n",
            "EPOCH: 33 (LR: 0.065425229533866)\n"
          ],
          "name": "stdout"
        },
        {
          "output_type": "stream",
          "text": [
            "Batch_id=273 Loss=0.56351 Accuracy=83.56%: 100%|██████████| 274/274 [04:46<00:00,  1.05s/it]\n",
            "  0%|          | 0/274 [00:00<?, ?it/s]"
          ],
          "name": "stderr"
        },
        {
          "output_type": "stream",
          "text": [
            "\n",
            "Test set: Average loss: 2.8578, Accuracy: 14594/30000 (48.65%)\n",
            "\n",
            "EPOCH: 34 (LR: 0.06037026570190255)\n"
          ],
          "name": "stdout"
        },
        {
          "output_type": "stream",
          "text": [
            "Batch_id=273 Loss=0.51801 Accuracy=84.91%: 100%|██████████| 274/274 [04:47<00:00,  1.05s/it]\n",
            "  0%|          | 0/274 [00:00<?, ?it/s]"
          ],
          "name": "stderr"
        },
        {
          "output_type": "stream",
          "text": [
            "\n",
            "Test set: Average loss: 2.9335, Accuracy: 14570/30000 (48.57%)\n",
            "\n",
            "EPOCH: 35 (LR: 0.0552017654507002)\n"
          ],
          "name": "stdout"
        },
        {
          "output_type": "stream",
          "text": [
            "Batch_id=273 Loss=0.47147 Accuracy=86.02%: 100%|██████████| 274/274 [04:46<00:00,  1.05s/it]\n",
            "  0%|          | 0/274 [00:00<?, ?it/s]"
          ],
          "name": "stderr"
        },
        {
          "output_type": "stream",
          "text": [
            "\n",
            "Test set: Average loss: 2.9594, Accuracy: 14623/30000 (48.74%)\n",
            "\n",
            "EPOCH: 36 (LR: 0.04997634218779073)\n"
          ],
          "name": "stdout"
        },
        {
          "output_type": "stream",
          "text": [
            "Batch_id=273 Loss=0.42786 Accuracy=87.40%: 100%|██████████| 274/274 [04:46<00:00,  1.05s/it]\n",
            "  0%|          | 0/274 [00:00<?, ?it/s]"
          ],
          "name": "stderr"
        },
        {
          "output_type": "stream",
          "text": [
            "\n",
            "Test set: Average loss: 2.9996, Accuracy: 14729/30000 (49.10%)\n",
            "\n",
            "EPOCH: 37 (LR: 0.04475123282955817)\n"
          ],
          "name": "stdout"
        },
        {
          "output_type": "stream",
          "text": [
            "Batch_id=273 Loss=0.38843 Accuracy=88.55%: 100%|██████████| 274/274 [04:46<00:00,  1.05s/it]\n",
            "  0%|          | 0/274 [00:00<?, ?it/s]"
          ],
          "name": "stderr"
        },
        {
          "output_type": "stream",
          "text": [
            "\n",
            "Test set: Average loss: 3.0205, Accuracy: 14719/30000 (49.06%)\n",
            "\n",
            "EPOCH: 38 (LR: 0.03958367085401716)\n"
          ],
          "name": "stdout"
        },
        {
          "output_type": "stream",
          "text": [
            "Batch_id=178 Loss=0.34005 Accuracy=90.09%:  65%|██████▌   | 179/274 [03:07<01:39,  1.05s/it]"
          ],
          "name": "stderr"
        }
      ]
    },
    {
      "cell_type": "markdown",
      "metadata": {
        "id": "3lHRpIddzlYw"
      },
      "source": [
        "# Plots"
      ]
    },
    {
      "cell_type": "code",
      "metadata": {
        "id": "WZbCzx9bxE9s"
      },
      "source": [
        "fig, axs = plt.subplots(1,2,figsize=(16,7))\n",
        "axs[0].set_title('LOSS')\n",
        "axs[0].plot(history[1], label='Train')\n",
        "axs[0].plot(history[3], label='Test')\n",
        "axs[0].legend()\n",
        "axs[0].grid()\n",
        "\n",
        "axs[1].set_title('Accuracy')\n",
        "axs[1].plot(history[0], label='Train')\n",
        "axs[1].plot(history[2], label='Test')\n",
        "axs[1].legend()\n",
        "axs[1].grid()\n",
        "\n",
        "plt.show()"
      ],
      "execution_count": null,
      "outputs": []
    },
    {
      "cell_type": "code",
      "metadata": {
        "id": "rq0wy1jQAChB"
      },
      "source": [
        "from matplotlib.patches import Rectangle"
      ],
      "execution_count": null,
      "outputs": []
    },
    {
      "cell_type": "code",
      "metadata": {
        "id": "eSadMl7qAKDm"
      },
      "source": [
        "boxes = [[0.21800972, 0.23937561],\n",
        " [0.47820696, 0.2747049 ],\n",
        " [0.2933176,  0.49000069]]\n",
        "# Anchor Boxes\n",
        "# [[0.48097647 0.27242493]\n",
        "#  [0.20521151 0.38892595]\n",
        "#  [0.24723699 0.18160679]\n",
        "#  [0.38518916 0.53279805]]\n",
        "# Anchor Boxes\n",
        "# [[0.36883626 0.5272217 ]\n",
        "#  [0.19582219 0.40128108]\n",
        "#  [0.38192967 0.23798785]\n",
        "#  [0.18887418 0.18646305]\n",
        "#  [0.58138919 0.31869355]]\n",
        "# Anchor Boxes\n",
        "# [[0.58712627 0.34423629]\n",
        "#  [0.17028642 0.40289598]\n",
        "#  [0.1904382  0.19244854]\n",
        "#  [0.40450918 0.17267584]\n",
        "#  [0.35578995 0.35962054]\n",
        "#  [0.3359177  0.59183155]]"
      ],
      "execution_count": null,
      "outputs": []
    },
    {
      "cell_type": "code",
      "metadata": {
        "colab": {
          "base_uri": "https://localhost:8080/"
        },
        "id": "y1fjwourDBPj",
        "outputId": "b9960d24-9ee9-4de4-e232-bc347b1be623"
      },
      "source": [
        "-1*boxes[i][0]/2"
      ],
      "execution_count": null,
      "outputs": [
        {
          "output_type": "execute_result",
          "data": {
            "text/plain": [
              "-0.1466588"
            ]
          },
          "metadata": {
            "tags": []
          },
          "execution_count": 40
        }
      ]
    },
    {
      "cell_type": "code",
      "metadata": {
        "colab": {
          "base_uri": "https://localhost:8080/",
          "height": 264
        },
        "id": "lrry3NvtAAdA",
        "outputId": "992579dd-0886-44a0-ecfa-361569077dde"
      },
      "source": [
        "wcss = []\n",
        "fig, ax = plt.subplots(1,1)\n",
        "idx = 0\n",
        "\n",
        "n_clusters = 3\n",
        "# ax = axes[idx]\n",
        "\n",
        "anchors_ = boxes\n",
        "# anchors = sorted(anchors_, key=lambda x: x[0]*x[1])\n",
        "# print(anchors)\n",
        "anchors = boxes\n",
        "ax.set_title('{} clusters'.format(n_clusters))\n",
        "ax.axis('off')\n",
        "\n",
        "for i in range(0, n_clusters):\n",
        "    ax.add_patch(Rectangle((-1*anchors[i][0]/2 + 0.5, -1*anchors[i][1]/2 + 0.5), anchors[i][0], anchors[i][1], fill=False, linewidth=2))\n",
        "    # ax.add_patch(Rectangle((0, 0), anchors[i][0], anchors[i][1],color=plt.cm.RdYlBu(i*40)))\n",
        "idx = idx + 1\n"
      ],
      "execution_count": null,
      "outputs": [
        {
          "output_type": "display_data",
          "data": {
            "image/png": "[encoded data removed]",
            "text/plain": [
              "<Figure size 432x288 with 1 Axes>"
            ]
          },
          "metadata": {
            "tags": [],
            "needs_background": "light"
          }
        }
      ]
    },
    {
      "cell_type": "code",
      "metadata": {
        "id": "LR-kxQG9AhIM"
      },
      "source": [
        ""
      ],
      "execution_count": null,
      "outputs": []
    }
  ]
}