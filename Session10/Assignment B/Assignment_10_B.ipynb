{
  "nbformat": 4,
  "nbformat_minor": 0,
  "metadata": {
    "colab": {
      "name": "Assignment 10 B.ipynb",
      "provenance": [],
      "authorship_tag": "ABX9TyPB/EdlgJ1fwfpPq99b1IqQ",
      "include_colab_link": true
    },
    "kernelspec": {
      "name": "python3",
      "display_name": "Python 3"
    },
    "language_info": {
      "name": "python"
    }
  },
  "cells": [
    {
      "cell_type": "markdown",
      "metadata": {
        "id": "view-in-github",
        "colab_type": "text"
      },
      "source": [
        "<a href=\"https://colab.research.google.com/github/vivek-a81/EVA6/blob/main/Session10/Assignment%20B/Assignment_10_B.ipynb\" target=\"_parent\"><img src=\"https://colab.research.google.com/assets/colab-badge.svg\" alt=\"Open In Colab\"/></a>"
      ]
    },
    {
      "cell_type": "code",
      "metadata": {
        "id": "umXOaisYYZQu"
      },
      "source": [
        "# from google.colab import drive\n",
        "# drive.mount('/gdrive')"
      ],
      "execution_count": 2,
      "outputs": []
    },
    {
      "cell_type": "code",
      "metadata": {
        "id": "3367u6zPYg3Z"
      },
      "source": [
        "data_file = \"/gdrive/MyDrive/EVA6/Session10/COCODataset.xlsx\""
      ],
      "execution_count": 3,
      "outputs": []
    },
    {
      "cell_type": "code",
      "metadata": {
        "colab": {
          "base_uri": "https://localhost:8080/"
        },
        "id": "IWK9obcYXcNN",
        "outputId": "01990399-6792-4beb-f109-395ecb43ae88"
      },
      "source": [
        "import numpy as np\n",
        "import pandas as pd\n",
        "from matplotlib import pyplot as plt\n",
        "from sklearn.datasets.samples_generator import make_blobs\n",
        "from sklearn.cluster import KMeans"
      ],
      "execution_count": 4,
      "outputs": [
        {
          "output_type": "stream",
          "text": [
            "/usr/local/lib/python3.7/dist-packages/sklearn/utils/deprecation.py:144: FutureWarning: The sklearn.datasets.samples_generator module is  deprecated in version 0.22 and will be removed in version 0.24. The corresponding classes / functions should instead be imported from sklearn.datasets. Anything that cannot be imported from sklearn.datasets is now part of the private API.\n",
            "  warnings.warn(message, FutureWarning)\n"
          ],
          "name": "stderr"
        }
      ]
    },
    {
      "cell_type": "code",
      "metadata": {
        "id": "jt4SKUAYZiB_"
      },
      "source": [
        "df = pd.read_excel(data_file)\n",
        "X = df.iloc[:, [-2, -1]]"
      ],
      "execution_count": 5,
      "outputs": []
    },
    {
      "cell_type": "markdown",
      "metadata": {
        "id": "-3fES9xQn1pH"
      },
      "source": [
        "# Show the class distribution"
      ]
    },
    {
      "cell_type": "code",
      "metadata": {
        "id": "CB2VUMhLoYFo"
      },
      "source": [
        "unique, counts = np.unique(df.iloc[:,0], return_counts=True)"
      ],
      "execution_count": 6,
      "outputs": []
    },
    {
      "cell_type": "code",
      "metadata": {
        "colab": {
          "base_uri": "https://localhost:8080/",
          "height": 313
        },
        "id": "C1sdChl7oNR5",
        "outputId": "b048908d-80da-4de4-c91b-6669b69f451f"
      },
      "source": [
        "plt.bar(unique, counts, 1 )\n",
        "plt.title('Class Frequency')\n",
        "plt.xlabel('Class')\n",
        "plt.ylabel('Frequency')"
      ],
      "execution_count": 7,
      "outputs": [
        {
          "output_type": "execute_result",
          "data": {
            "text/plain": [
              "Text(0, 0.5, 'Frequency')"
            ]
          },
          "metadata": {
            "tags": []
          },
          "execution_count": 7
        },
        {
          "output_type": "display_data",
          "data": {
            "image/png": "[encoded data removed]",
            "text/plain": [
              "<Figure size 432x288 with 1 Axes>"
            ]
          },
          "metadata": {
            "tags": [],
            "needs_background": "light"
          }
        }
      ]
    },
    {
      "cell_type": "code",
      "metadata": {
        "colab": {
          "base_uri": "https://localhost:8080/",
          "height": 283
        },
        "id": "UkwBo1CHep0n",
        "outputId": "10be9e06-4dd2-4569-fd53-581c8293bffd"
      },
      "source": [
        "plt.scatter(X.iloc[:,0], X.iloc[:,1])"
      ],
      "execution_count": 8,
      "outputs": [
        {
          "output_type": "execute_result",
          "data": {
            "text/plain": [
              "<matplotlib.collections.PathCollection at 0x7f087355bf90>"
            ]
          },
          "metadata": {
            "tags": []
          },
          "execution_count": 8
        },
        {
          "output_type": "display_data",
          "data": {
            "image/png": "[encoded data removed]",
            "text/plain": [
              "<Figure size 432x288 with 1 Axes>"
            ]
          },
          "metadata": {
            "tags": [],
            "needs_background": "light"
          }
        }
      ]
    },
    {
      "cell_type": "code",
      "metadata": {
        "id": "hZjMXX8tkqkg"
      },
      "source": [
        "from matplotlib.patches import Rectangle"
      ],
      "execution_count": 9,
      "outputs": []
    },
    {
      "cell_type": "code",
      "metadata": {
        "colab": {
          "base_uri": "https://localhost:8080/",
          "height": 1000
        },
        "id": "sirc4pWnfG6C",
        "outputId": "034e1244-9e6a-41dd-a83d-3c1d9c573ed2"
      },
      "source": [
        "wcss = []\n",
        "fig, axes = plt.subplots(4,1,figsize= (5, 20))\n",
        "idx = 0\n",
        "for n_clusters in range(3, 7):\n",
        "\n",
        "    ax = axes[idx]\n",
        "    kmeans = KMeans(n_clusters=n_clusters, init='k-means++', max_iter=300, n_init=10, random_state=0)\n",
        "    pred_y = kmeans.fit_predict(X)\n",
        "    print(\"Anchor Boxes\")\n",
        "    print(kmeans.cluster_centers_)\n",
        "    anchors_ = kmeans.cluster_centers_\n",
        "    # anchors = sorted(anchors_, key=lambda x: x[0]*x[1])\n",
        "    # print(anchors)\n",
        "    anchors = anchors_\n",
        "    ax.set_title('{} clusters'.format(n_clusters))\n",
        "    ax.axis('off')\n",
        "    for i in range(0, n_clusters):\n",
        "        # ax.add_patch(Rectangle((0, 0), anchors[i,0], anchors[i,1],color=plt.cm.RdYlBu(i*40)))\n",
        "        ax.add_patch(Rectangle((-1*anchors[i][0]/2 + 0.5, -1*anchors[i][1]/2 + 0.5), anchors[i][0], anchors[i][1], fill=False, linewidth=2))\n",
        "    idx = idx + 1\n",
        "plt.show()"
      ],
      "execution_count": 14,
      "outputs": [
        {
          "output_type": "stream",
          "text": [
            "Anchor Boxes\n",
            "[[0.21800972 0.23937561]\n",
            " [0.47820696 0.2747049 ]\n",
            " [0.2933176  0.49000069]]\n",
            "Anchor Boxes\n",
            "[[0.48097647 0.27242493]\n",
            " [0.20521151 0.38892595]\n",
            " [0.24723699 0.18160679]\n",
            " [0.38518916 0.53279805]]\n",
            "Anchor Boxes\n",
            "[[0.36883626 0.5272217 ]\n",
            " [0.19582219 0.40128108]\n",
            " [0.38192967 0.23798785]\n",
            " [0.18887418 0.18646305]\n",
            " [0.58138919 0.31869355]]\n",
            "Anchor Boxes\n",
            "[[0.58712627 0.34423629]\n",
            " [0.17028642 0.40289598]\n",
            " [0.1904382  0.19244854]\n",
            " [0.40450918 0.17267584]\n",
            " [0.35578995 0.35962054]\n",
            " [0.3359177  0.59183155]]\n"
          ],
          "name": "stdout"
        },
        {
          "output_type": "display_data",
          "data": {
            "image/png": "[encoded data removed]",
            "text/plain": [
              "<Figure size 360x1440 with 4 Axes>"
            ]
          },
          "metadata": {
            "tags": [],
            "needs_background": "light"
          }
        }
      ]
    },
    {
      "cell_type": "code",
      "metadata": {
        "id": "R4gWDw5cGHbJ"
      },
      "source": [
        ""
      ],
      "execution_count": null,
      "outputs": []
    }
  ]
}