{
  "nbformat": 4,
  "nbformat_minor": 0,
  "metadata": {
    "colab": {
      "name": "session-8.ipynb",
      "provenance": [],
      "collapsed_sections": [],
      "include_colab_link": true
    },
    "kernelspec": {
      "display_name": "Python 3",
      "name": "python3"
    },
    "language_info": {
      "name": "python"
    },
    "accelerator": "GPU"
  },
  "cells": [
    {
      "cell_type": "markdown",
      "metadata": {
        "id": "view-in-github",
        "colab_type": "text"
      },
      "source": [
        "<a href=\"https://colab.research.google.com/github/vivek-a81/EVA6/blob/main/Session8/session_8.ipynb\" target=\"_parent\"><img src=\"https://colab.research.google.com/assets/colab-badge.svg\" alt=\"Open In Colab\"/></a>"
      ]
    },
    {
      "cell_type": "code",
      "metadata": {
        "id": "wOABvvoEEFrL",
        "colab": {
          "base_uri": "https://localhost:8080/"
        },
        "outputId": "4b7f1c8f-82b8-48ee-f30e-c0133290e1f1"
      },
      "source": [
        "!git clone https://github.com/MittalNeha/vision_pytorch.git"
      ],
      "execution_count": 1,
      "outputs": [
        {
          "output_type": "stream",
          "text": [
            "Cloning into 'vision_pytorch'...\n",
            "remote: Enumerating objects: 17, done.\u001b[K\n",
            "remote: Counting objects: 100% (17/17), done.\u001b[K\n",
            "remote: Compressing objects: 100% (13/13), done.\u001b[K\n",
            "remote: Total 17 (delta 2), reused 14 (delta 2), pack-reused 0\u001b[K\n",
            "Unpacking objects: 100% (17/17), done.\n"
          ],
          "name": "stdout"
        }
      ]
    },
    {
      "cell_type": "code",
      "metadata": {
        "colab": {
          "base_uri": "https://localhost:8080/"
        },
        "id": "PeA1JLRfcOjC",
        "outputId": "b67fcd9a-d341-4750-d7c7-8161c5b00052"
      },
      "source": [
        "!pip install --upgrade albumentations"
      ],
      "execution_count": 2,
      "outputs": [
        {
          "output_type": "stream",
          "text": [
            "Collecting albumentations\n",
            "\u001b[?25l  Downloading https://files.pythonhosted.org/packages/b0/be/3db3cd8af771988748f69eace42047d5edebf01eaa7e1293f3b3f75f989e/albumentations-1.0.0-py3-none-any.whl (98kB)\n",
            "\r\u001b[K     |███▍                            | 10kB 15.9MB/s eta 0:00:01\r\u001b[K     |██████▊                         | 20kB 20.3MB/s eta 0:00:01\r\u001b[K     |██████████                      | 30kB 11.1MB/s eta 0:00:01\r\u001b[K     |█████████████▍                  | 40kB 9.1MB/s eta 0:00:01\r\u001b[K     |████████████████▊               | 51kB 4.2MB/s eta 0:00:01\r\u001b[K     |████████████████████            | 61kB 4.4MB/s eta 0:00:01\r\u001b[K     |███████████████████████▍        | 71kB 4.8MB/s eta 0:00:01\r\u001b[K     |██████████████████████████▊     | 81kB 4.9MB/s eta 0:00:01\r\u001b[K     |██████████████████████████████  | 92kB 5.0MB/s eta 0:00:01\r\u001b[K     |████████████████████████████████| 102kB 3.8MB/s \n",
            "\u001b[?25hRequirement already satisfied, skipping upgrade: scipy in /usr/local/lib/python3.7/dist-packages (from albumentations) (1.4.1)\n",
            "Requirement already satisfied, skipping upgrade: numpy>=1.11.1 in /usr/local/lib/python3.7/dist-packages (from albumentations) (1.19.5)\n",
            "Requirement already satisfied, skipping upgrade: PyYAML in /usr/local/lib/python3.7/dist-packages (from albumentations) (3.13)\n",
            "Collecting opencv-python-headless>=4.1.1\n",
            "\u001b[?25l  Downloading https://files.pythonhosted.org/packages/c3/35/bfc76533f2274cd3da4e2cf255cd13ab9d7f6fc8990c06911e7f8fcc2130/opencv_python_headless-4.5.2.54-cp37-cp37m-manylinux2014_x86_64.whl (38.2MB)\n",
            "\u001b[K     |████████████████████████████████| 38.2MB 73kB/s \n",
            "\u001b[?25hRequirement already satisfied, skipping upgrade: scikit-image>=0.16.1 in /usr/local/lib/python3.7/dist-packages (from albumentations) (0.16.2)\n",
            "Requirement already satisfied, skipping upgrade: networkx>=2.0 in /usr/local/lib/python3.7/dist-packages (from scikit-image>=0.16.1->albumentations) (2.5.1)\n",
            "Requirement already satisfied, skipping upgrade: pillow>=4.3.0 in /usr/local/lib/python3.7/dist-packages (from scikit-image>=0.16.1->albumentations) (7.1.2)\n",
            "Requirement already satisfied, skipping upgrade: matplotlib!=3.0.0,>=2.0.0 in /usr/local/lib/python3.7/dist-packages (from scikit-image>=0.16.1->albumentations) (3.2.2)\n",
            "Requirement already satisfied, skipping upgrade: PyWavelets>=0.4.0 in /usr/local/lib/python3.7/dist-packages (from scikit-image>=0.16.1->albumentations) (1.1.1)\n",
            "Requirement already satisfied, skipping upgrade: imageio>=2.3.0 in /usr/local/lib/python3.7/dist-packages (from scikit-image>=0.16.1->albumentations) (2.4.1)\n",
            "Requirement already satisfied, skipping upgrade: decorator<5,>=4.3 in /usr/local/lib/python3.7/dist-packages (from networkx>=2.0->scikit-image>=0.16.1->albumentations) (4.4.2)\n",
            "Requirement already satisfied, skipping upgrade: pyparsing!=2.0.4,!=2.1.2,!=2.1.6,>=2.0.1 in /usr/local/lib/python3.7/dist-packages (from matplotlib!=3.0.0,>=2.0.0->scikit-image>=0.16.1->albumentations) (2.4.7)\n",
            "Requirement already satisfied, skipping upgrade: cycler>=0.10 in /usr/local/lib/python3.7/dist-packages (from matplotlib!=3.0.0,>=2.0.0->scikit-image>=0.16.1->albumentations) (0.10.0)\n",
            "Requirement already satisfied, skipping upgrade: kiwisolver>=1.0.1 in /usr/local/lib/python3.7/dist-packages (from matplotlib!=3.0.0,>=2.0.0->scikit-image>=0.16.1->albumentations) (1.3.1)\n",
            "Requirement already satisfied, skipping upgrade: python-dateutil>=2.1 in /usr/local/lib/python3.7/dist-packages (from matplotlib!=3.0.0,>=2.0.0->scikit-image>=0.16.1->albumentations) (2.8.1)\n",
            "Requirement already satisfied, skipping upgrade: six in /usr/local/lib/python3.7/dist-packages (from cycler>=0.10->matplotlib!=3.0.0,>=2.0.0->scikit-image>=0.16.1->albumentations) (1.15.0)\n",
            "Installing collected packages: opencv-python-headless, albumentations\n",
            "  Found existing installation: albumentations 0.1.12\n",
            "    Uninstalling albumentations-0.1.12:\n",
            "      Successfully uninstalled albumentations-0.1.12\n",
            "Successfully installed albumentations-1.0.0 opencv-python-headless-4.5.2.54\n"
          ],
          "name": "stdout"
        }
      ]
    },
    {
      "cell_type": "code",
      "metadata": {
        "id": "xUdw-TAUce65"
      },
      "source": [
        "import numpy as np\n",
        "import matplotlib.pyplot as plt\n",
        "\n",
        "import albumentations as A\n",
        "from albumentations.pytorch import ToTensorV2\n",
        "\n",
        "import torch \n",
        "from torchvision import datasets, transforms\n",
        "from torchsummary import summary\n",
        "\n",
        "from vision_pytorch.models import resnet\n",
        "from vision_pytorch.main import *\n",
        "from vision_pytorch.utils import *"
      ],
      "execution_count": 1,
      "outputs": []
    },
    {
      "cell_type": "code",
      "metadata": {
        "id": "u4o7myIPkr7c"
      },
      "source": [
        "from vision_pytorch.gradcam import GradCAM"
      ],
      "execution_count": null,
      "outputs": []
    },
    {
      "cell_type": "code",
      "metadata": {
        "colab": {
          "base_uri": "https://localhost:8080/"
        },
        "id": "AbKMt2y0kn_h",
        "outputId": "471171b6-bbcd-4ff2-c5df-c6ca67ebf1ca"
      },
      "source": [
        "import importlib\n",
        "importlib.reload(vision_pytorch.utils)\n",
        "# importlib.reload(resnet)"
      ],
      "execution_count": 14,
      "outputs": [
        {
          "output_type": "execute_result",
          "data": {
            "text/plain": [
              "<module 'vision_pytorch.utils' from '/content/vision_pytorch/utils.py'>"
            ]
          },
          "metadata": {
            "tags": []
          },
          "execution_count": 14
        }
      ]
    },
    {
      "cell_type": "code",
      "metadata": {
        "colab": {
          "base_uri": "https://localhost:8080/"
        },
        "id": "k3iLKtEDH8pL",
        "outputId": "89f5b2ee-a2be-43be-9462-c9544fdb0211"
      },
      "source": [
        "trainset, testset = download_data()"
      ],
      "execution_count": 2,
      "outputs": [
        {
          "output_type": "stream",
          "text": [
            "Files already downloaded and verified\n",
            "Files already downloaded and verified\n"
          ],
          "name": "stdout"
        }
      ]
    },
    {
      "cell_type": "code",
      "metadata": {
        "colab": {
          "base_uri": "https://localhost:8080/",
          "height": 1000
        },
        "id": "VeTeo89k6OrX",
        "outputId": "1804b3fe-3fab-4096-bce5-de13f629a52c"
      },
      "source": [
        "plot_aug({\n",
        "    'Original Image': None,\n",
        "    'Rotate': A.Rotate (limit=5, interpolation=1, border_mode=4, value=None, mask_value=None, always_apply=True, p=0.5),\n",
        "    \n",
        "    'Random Crop': A.Sequential([A.CropAndPad(px=4, keep_size=False), #padding of 2, keep_size=True by default\n",
        "                A.RandomCrop(32,32)]),\n",
        "    'Cut Out': A.CoarseDropout(max_holes=1, max_height=16, max_width=16, min_holes=1, min_height=16, \n",
        "                               min_width=16, fill_value=0.473363, mask_fill_value=None, always_apply=True)\n",
        "}, data=trainset)"
      ],
      "execution_count": 3,
      "outputs": [
        {
          "output_type": "display_data",
          "data": {
            "image/png": "[encoded data removed]",
            "text/plain": [
              "<Figure size 864x1080 with 24 Axes>"
            ]
          },
          "metadata": {
            "tags": [],
            "needs_background": "light"
          }
        }
      ]
    },
    {
      "cell_type": "code",
      "metadata": {
        "id": "CyiFUvkodcLY"
      },
      "source": [
        "# Apply these transforms while training:\n",
        "# RandomCrop(32, padding=4)\n",
        "# CutOut(16x16)\n",
        "# Rotate(±5°)\n",
        "\n",
        "train_transform = A.Compose({\n",
        "  A.Rotate (limit=5, interpolation=1, border_mode=4, value=None, mask_value=None, always_apply=False, p=0.5),\n",
        "  A.Sequential([A.CropAndPad(px=4, keep_size=False), #padding of 2, keep_size=True by default\n",
        "                A.RandomCrop(32,32)]),\n",
        "  A.CoarseDropout(1, 16, 16, 1, 16, 16,fill_value=0.473363, mask_fill_value=None),\n",
        "  A.Normalize((0.49139968, 0.48215841, 0.44653091), (0.24703223, 0.24348513, 0.26158784)),\n",
        "})\n",
        "\n",
        "test_transform = A.Compose({\n",
        "  A.Normalize((0.49139968, 0.48215841, 0.44653091), (0.24703223, 0.24348513, 0.26158784))\n",
        "})"
      ],
      "execution_count": 4,
      "outputs": []
    },
    {
      "cell_type": "code",
      "metadata": {
        "colab": {
          "base_uri": "https://localhost:8080/"
        },
        "id": "ZoU1mcfdk66o",
        "outputId": "ad276b1c-bd9f-4e09-9b5e-1e43014fd9b4"
      },
      "source": [
        "cuda = torch.cuda.is_available()\n",
        "print(\"CUDA Available:\", cuda)\n",
        "SEED = 1\n",
        "# For reproducibility\n",
        "torch.manual_seed(SEED)\n",
        "\n",
        "if cuda:\n",
        "    torch.cuda.manual_seed(SEED)\n",
        "    BATCH_SIZE=64\n",
        "else:\n",
        "    BATCH_SIZE=32"
      ],
      "execution_count": 5,
      "outputs": [
        {
          "output_type": "stream",
          "text": [
            "CUDA Available: True\n"
          ],
          "name": "stdout"
        }
      ]
    },
    {
      "cell_type": "code",
      "metadata": {
        "id": "mOAnfQ6ReWuu"
      },
      "source": [
        "train_loader = torch.utils.data.DataLoader(LoadDataset(trainset, train_transform), batch_size=BATCH_SIZE,\n",
        "                                          shuffle=True, num_workers=2)\n",
        "test_loader = torch.utils.data.DataLoader(LoadDataset(testset, test_transform), batch_size=BATCH_SIZE,\n",
        "                                          shuffle=False, num_workers=1)"
      ],
      "execution_count": 6,
      "outputs": []
    },
    {
      "cell_type": "code",
      "metadata": {
        "id": "rDLrhBB_3PR7"
      },
      "source": [
        "use_cuda = torch.cuda.is_available()\n",
        "device = torch.device(\"cuda\" if use_cuda else \"cpu\")\n",
        "print(device)"
      ],
      "execution_count": null,
      "outputs": []
    },
    {
      "cell_type": "code",
      "metadata": {
        "colab": {
          "base_uri": "https://localhost:8080/"
        },
        "id": "niTelJJClzt-",
        "outputId": "12c9288c-1c74-4b98-84c8-833d6d84f7d9"
      },
      "source": [
        "net_18 = resnet.ResNet18().to(device)\n",
        "summary(net_18, input_size=(3, 32, 32))"
      ],
      "execution_count": 8,
      "outputs": [
        {
          "output_type": "stream",
          "text": [
            "----------------------------------------------------------------\n",
            "        Layer (type)               Output Shape         Param #\n",
            "================================================================\n",
            "            Conv2d-1           [-1, 64, 32, 32]           1,728\n",
            "         GroupNorm-2           [-1, 64, 32, 32]             128\n",
            "            Conv2d-3           [-1, 64, 32, 32]          36,864\n",
            "         GroupNorm-4           [-1, 64, 32, 32]             128\n",
            "            Conv2d-5           [-1, 64, 32, 32]          36,864\n",
            "         GroupNorm-6           [-1, 64, 32, 32]             128\n",
            "        BasicBlock-7           [-1, 64, 32, 32]               0\n",
            "            Conv2d-8           [-1, 64, 32, 32]          36,864\n",
            "         GroupNorm-9           [-1, 64, 32, 32]             128\n",
            "           Conv2d-10           [-1, 64, 32, 32]          36,864\n",
            "        GroupNorm-11           [-1, 64, 32, 32]             128\n",
            "       BasicBlock-12           [-1, 64, 32, 32]               0\n",
            "           Conv2d-13          [-1, 128, 16, 16]          73,728\n",
            "        GroupNorm-14          [-1, 128, 16, 16]             256\n",
            "           Conv2d-15          [-1, 128, 16, 16]         147,456\n",
            "        GroupNorm-16          [-1, 128, 16, 16]             256\n",
            "           Conv2d-17          [-1, 128, 16, 16]           8,192\n",
            "        GroupNorm-18          [-1, 128, 16, 16]             256\n",
            "       BasicBlock-19          [-1, 128, 16, 16]               0\n",
            "           Conv2d-20          [-1, 128, 16, 16]         147,456\n",
            "        GroupNorm-21          [-1, 128, 16, 16]             256\n",
            "           Conv2d-22          [-1, 128, 16, 16]         147,456\n",
            "        GroupNorm-23          [-1, 128, 16, 16]             256\n",
            "       BasicBlock-24          [-1, 128, 16, 16]               0\n",
            "           Conv2d-25            [-1, 256, 8, 8]         294,912\n",
            "        GroupNorm-26            [-1, 256, 8, 8]             512\n",
            "           Conv2d-27            [-1, 256, 8, 8]         589,824\n",
            "        GroupNorm-28            [-1, 256, 8, 8]             512\n",
            "           Conv2d-29            [-1, 256, 8, 8]          32,768\n",
            "        GroupNorm-30            [-1, 256, 8, 8]             512\n",
            "       BasicBlock-31            [-1, 256, 8, 8]               0\n",
            "           Conv2d-32            [-1, 256, 8, 8]         589,824\n",
            "        GroupNorm-33            [-1, 256, 8, 8]             512\n",
            "           Conv2d-34            [-1, 256, 8, 8]         589,824\n",
            "        GroupNorm-35            [-1, 256, 8, 8]             512\n",
            "       BasicBlock-36            [-1, 256, 8, 8]               0\n",
            "           Conv2d-37            [-1, 512, 8, 8]       1,179,648\n",
            "        GroupNorm-38            [-1, 512, 8, 8]           1,024\n",
            "           Conv2d-39            [-1, 512, 8, 8]       2,359,296\n",
            "        GroupNorm-40            [-1, 512, 8, 8]           1,024\n",
            "           Conv2d-41            [-1, 512, 8, 8]         131,072\n",
            "        GroupNorm-42            [-1, 512, 8, 8]           1,024\n",
            "       BasicBlock-43            [-1, 512, 8, 8]               0\n",
            "           Conv2d-44            [-1, 512, 8, 8]       2,359,296\n",
            "        GroupNorm-45            [-1, 512, 8, 8]           1,024\n",
            "           Conv2d-46            [-1, 512, 8, 8]       2,359,296\n",
            "        GroupNorm-47            [-1, 512, 8, 8]           1,024\n",
            "       BasicBlock-48            [-1, 512, 8, 8]               0\n",
            "           Linear-49                   [-1, 10]           5,130\n",
            "================================================================\n",
            "Total params: 11,173,962\n",
            "Trainable params: 11,173,962\n",
            "Non-trainable params: 0\n",
            "----------------------------------------------------------------\n",
            "Input size (MB): 0.01\n",
            "Forward/backward pass size (MB): 13.50\n",
            "Params size (MB): 42.63\n",
            "Estimated Total Size (MB): 56.14\n",
            "----------------------------------------------------------------\n"
          ],
          "name": "stdout"
        }
      ]
    },
    {
      "cell_type": "code",
      "metadata": {
        "colab": {
          "base_uri": "https://localhost:8080/"
        },
        "id": "FVknBvOJm8MZ",
        "outputId": "53898d09-8f96-42ad-bc6b-2dda098ed170"
      },
      "source": [
        "optimizer = torch.optim.SGD(net_18.parameters(), lr=0.01, momentum=0.9)\n",
        "scheduler = torch.optim.lr_scheduler.ReduceLROnPlateau(\n",
        "    optimizer,mode='min', patience=8, verbose=True)\n",
        "\n",
        "net_18, history_18 = fit_model(\n",
        "    net=net_18,\n",
        "    train_loader=train_loader, test_loader=test_loader,\n",
        "    scheduler=scheduler, \n",
        "    optimizer=optimizer, device=device, NUM_EPOCHS=20\n",
        ")"
      ],
      "execution_count": null,
      "outputs": [
        {
          "output_type": "stream",
          "text": [
            "\r  0%|          | 0/782 [00:00<?, ?it/s]"
          ],
          "name": "stderr"
        },
        {
          "output_type": "stream",
          "text": [
            "EPOCH: 1\n"
          ],
          "name": "stdout"
        },
        {
          "output_type": "stream",
          "text": [
            "Batch_id=781 Loss=2.13969 Accuracy=20.08: 100%|██████████| 782/782 [01:59<00:00,  6.52it/s]\n",
            "  0%|          | 0/782 [00:00<?, ?it/s]"
          ],
          "name": "stderr"
        },
        {
          "output_type": "stream",
          "text": [
            "\n",
            "Test set: Average loss: 1.8089, Accuracy: 3064/10000 (30.64%)\n",
            "\n",
            "EPOCH: 2\n"
          ],
          "name": "stdout"
        },
        {
          "output_type": "stream",
          "text": [
            "Batch_id=781 Loss=1.81003 Accuracy=32.20: 100%|██████████| 782/782 [02:00<00:00,  6.47it/s]\n",
            "  0%|          | 0/782 [00:00<?, ?it/s]"
          ],
          "name": "stderr"
        },
        {
          "output_type": "stream",
          "text": [
            "\n",
            "Test set: Average loss: 1.7614, Accuracy: 3656/10000 (36.56%)\n",
            "\n",
            "EPOCH: 3\n"
          ],
          "name": "stdout"
        },
        {
          "output_type": "stream",
          "text": [
            "Batch_id=781 Loss=1.65457 Accuracy=38.49: 100%|██████████| 782/782 [02:01<00:00,  6.46it/s]\n",
            "  0%|          | 0/782 [00:00<?, ?it/s]"
          ],
          "name": "stderr"
        },
        {
          "output_type": "stream",
          "text": [
            "\n",
            "Test set: Average loss: 1.4766, Accuracy: 4463/10000 (44.63%)\n",
            "\n",
            "EPOCH: 4\n"
          ],
          "name": "stdout"
        },
        {
          "output_type": "stream",
          "text": [
            "Batch_id=781 Loss=1.51366 Accuracy=44.14: 100%|██████████| 782/782 [02:01<00:00,  6.45it/s]\n",
            "  0%|          | 0/782 [00:00<?, ?it/s]"
          ],
          "name": "stderr"
        },
        {
          "output_type": "stream",
          "text": [
            "\n",
            "Test set: Average loss: 1.3111, Accuracy: 5170/10000 (51.70%)\n",
            "\n",
            "EPOCH: 5\n"
          ],
          "name": "stdout"
        },
        {
          "output_type": "stream",
          "text": [
            "Batch_id=781 Loss=1.39042 Accuracy=48.92: 100%|██████████| 782/782 [02:05<00:00,  6.24it/s]\n",
            "  0%|          | 0/782 [00:00<?, ?it/s]"
          ],
          "name": "stderr"
        },
        {
          "output_type": "stream",
          "text": [
            "\n",
            "Test set: Average loss: 1.2495, Accuracy: 5361/10000 (53.61%)\n",
            "\n",
            "EPOCH: 6\n"
          ],
          "name": "stdout"
        },
        {
          "output_type": "stream",
          "text": [
            "Batch_id=15 Loss=1.40287 Accuracy=47.95:   2%|▏         | 16/782 [00:02<02:03,  6.20it/s]"
          ],
          "name": "stderr"
        }
      ]
    },
    {
      "cell_type": "code",
      "metadata": {
        "id": "nJMUVa0tWhIZ"
      },
      "source": [
        "torch.save(net_18.state_dict(), \"resnet18.pt\")"
      ],
      "execution_count": null,
      "outputs": []
    },
    {
      "cell_type": "markdown",
      "metadata": {
        "id": "uyeC7btdigo2"
      },
      "source": [
        "Plot the accuracy and loss curves"
      ]
    },
    {
      "cell_type": "code",
      "metadata": {
        "id": "VFdoYQV0WwAe"
      },
      "source": [
        "fig, axs = plt.subplots(1,2,figsize=(16,7))\n",
        "axs[0].set_title('LOSS')\n",
        "axs[0].plot(history_18[1], label='Train')\n",
        "axs[0].plot(history_18[3], label='Test')\n",
        "axs[0].legend()\n",
        "axs[0].grid()\n",
        "\n",
        "axs[1].set_title('Accuracy')\n",
        "axs[1].plot(history_18[0], label='Train')\n",
        "axs[1].plot(history_18[2], label='Test')\n",
        "axs[1].legend()\n",
        "axs[1].grid()\n",
        "\n",
        "plt.show()"
      ],
      "execution_count": null,
      "outputs": []
    },
    {
      "cell_type": "markdown",
      "metadata": {
        "id": "5DfZawwrimcd"
      },
      "source": [
        "Load the saved model"
      ]
    },
    {
      "cell_type": "code",
      "metadata": {
        "id": "9WqUY6C5TYqy"
      },
      "source": [
        "net_18.load_state_dict(torch.load(\"resnet18.pt\"))"
      ],
      "execution_count": null,
      "outputs": []
    },
    {
      "cell_type": "code",
      "metadata": {
        "id": "zBLUZqTHR_TO"
      },
      "source": [
        "summary(net_18,input_size = (3,32,32))"
      ],
      "execution_count": null,
      "outputs": []
    },
    {
      "cell_type": "code",
      "metadata": {
        "id": "SzQV5xHCO6JD"
      },
      "source": [
        "net_18.eval()"
      ],
      "execution_count": null,
      "outputs": []
    },
    {
      "cell_type": "code",
      "metadata": {
        "id": "qsqCyluBX-fo"
      },
      "source": [
        "mean, std = np.array([0.49139968, 0.48215841, 0.44653091]), np.array([0.24703223, 0.24348513, 0.26158784])\n",
        "images, labels = plot_misclassified(net_18, test_loader, testset.classes, device, mean, std, return_misclf=True)"
      ],
      "execution_count": null,
      "outputs": []
    },
    {
      "cell_type": "markdown",
      "metadata": {
        "id": "mDmwV_Zu1-YB"
      },
      "source": [
        "#Load the model\n"
      ]
    },
    {
      "cell_type": "code",
      "metadata": {
        "id": "oQfhqEnu2tHG"
      },
      "source": [
        "# net_18 = resnet.ResNet18().to(device)\n",
        "# summary(net_18, input_size=(3, 32, 32))"
      ],
      "execution_count": null,
      "outputs": []
    },
    {
      "cell_type": "code",
      "metadata": {
        "id": "wTXLObiK2AI8"
      },
      "source": [
        "# net_18.load_state_dict(torch.load(\"resnet18.pt\"))"
      ],
      "execution_count": null,
      "outputs": []
    },
    {
      "cell_type": "markdown",
      "metadata": {
        "id": "rIwQluIw-UYU"
      },
      "source": [
        "# Understanding Gradcam"
      ]
    },
    {
      "cell_type": "code",
      "metadata": {
        "id": "LzPB5jvluV5C"
      },
      "source": [
        "inputs = torch.stack(images, dim=0)\n",
        "target = torch.tensor(labels)"
      ],
      "execution_count": null,
      "outputs": []
    },
    {
      "cell_type": "code",
      "metadata": {
        "id": "mNy9o5H9xbmK"
      },
      "source": [
        "gcam = GradCAM(net_18.layer4[1])"
      ],
      "execution_count": null,
      "outputs": []
    },
    {
      "cell_type": "code",
      "metadata": {
        "id": "1Nai3rPxnU7q"
      },
      "source": [
        "loss_fn = nn.CrossEntropyLoss()\n",
        "\n",
        "net_18 = net_18.cpu()\n",
        "out = net_18(inputs)\n",
        "print(out.size())\n",
        "err = loss_fn(out, target)\n",
        "err.backward()"
      ],
      "execution_count": null,
      "outputs": []
    },
    {
      "cell_type": "code",
      "metadata": {
        "id": "_vIYAl22zd-2"
      },
      "source": [
        "gcam.remove_hooks()"
      ],
      "execution_count": null,
      "outputs": []
    },
    {
      "cell_type": "code",
      "metadata": {
        "id": "yhfvWSO_R0et"
      },
      "source": [
        "rows, cols = int(inputs.shape[0]/5),5\n",
        "figure = plt.figure(figsize=(cols*3,rows*3))\n",
        "for i in range(1, cols * rows + 1):\n",
        "    # img, label, pred = misclf[i-1]\n",
        "\n",
        "    figure.add_subplot(rows, cols, i) # adding sub plot\n",
        "    # plt.title(f\"Pred label: {classes[pred]}\\n True label: {classes[label]}\") # title of plot\n",
        "    plt.axis(\"off\") # hiding the axis\n",
        "    img = gcam.generate(inputs, inputs.shape[2:], i-1)\n",
        "    plt.imshow(img.squeeze(), cmap=\"rainbow\") # showing the plot\n",
        "\n",
        "plt.tight_layout()\n",
        "plt.show()"
      ],
      "execution_count": null,
      "outputs": []
    },
    {
      "cell_type": "markdown",
      "metadata": {
        "id": "yTVd7rxqOiaL"
      },
      "source": [
        "# Experiments to be deleted"
      ]
    },
    {
      "cell_type": "code",
      "metadata": {
        "id": "cJqklYGY-6OV"
      },
      "source": [
        "# gcam_obj = gcam\n",
        "index = 0\n",
        "input_shape = inputs.shape[2:]\n",
        "input_image = inputs[idx]"
      ],
      "execution_count": 80,
      "outputs": []
    },
    {
      "cell_type": "code",
      "metadata": {
        "id": "LWsFIWisGL6y"
      },
      "source": [
        "input_image = np.transpose(input_image, (1,2,0))\n",
        "input_image.shape"
      ],
      "execution_count": 119,
      "outputs": []
    },
    {
      "cell_type": "code",
      "metadata": {
        "id": "pbJB0EasAjP-"
      },
      "source": [
        "import matplotlib.cm as cm"
      ],
      "execution_count": 89,
      "outputs": []
    },
    {
      "cell_type": "code",
      "metadata": {
        "colab": {
          "base_uri": "https://localhost:8080/"
        },
        "id": "31GFz4lQ-y6A",
        "outputId": "2503d027-bbe5-4600-e03a-37a8884b5c51"
      },
      "source": [
        "grad = gcam_obj.grad[index].unsqueeze(dim=0)\n",
        "print(grad.shape)\n",
        "\n",
        "fmap = gcam_obj.fmap[index].unsqueeze(dim=0)\n",
        "\n",
        "weights = F.adaptive_avg_pool2d(grad, 1)\n",
        "print(weights.shape)\n",
        "\n",
        "gcam = torch.mul(fmap, weights).sum(dim=1, keepdim=True)\n",
        "print(gcam.shape)\n",
        "gcam = F.relu(gcam)\n",
        "gcam = F.interpolate(\n",
        "    gcam, input_shape, mode=\"bilinear\", align_corners=False\n",
        ")\n",
        "\n",
        "# print(gcam.shape)\n",
        "B, C, H, W = gcam.shape\n",
        "gcam = gcam.view(B, -1)\n",
        "gcam -= gcam.min(dim=1, keepdim=True)[0]\n",
        "gcam /= gcam.max(dim=1, keepdim=True)[0]\n",
        "gcam = gcam.view(B, C, H, W)\n",
        "\n",
        "# get the heatmap\n",
        "gcam = gcam.numpy()\n",
        "print(input_image.shape)\n",
        "input_image = input_image.numpy()\n",
        "cmap = cm.jet_r(gcam)[..., :3] * 255.0\n",
        "gcam_image = (cmap.astype(np.float) + input_image.astype(np.float)) / 2\n",
        "\n",
        "# return gcam_image"
      ],
      "execution_count": 97,
      "outputs": [
        {
          "output_type": "stream",
          "text": [
            "torch.Size([1, 512, 8, 8])\n",
            "torch.Size([1, 512, 1, 1])\n",
            "torch.Size([1, 1, 8, 8])\n"
          ],
          "name": "stdout"
        }
      ]
    },
    {
      "cell_type": "code",
      "metadata": {
        "colab": {
          "base_uri": "https://localhost:8080/"
        },
        "id": "4SKhQYJYR5FW",
        "outputId": "b4a3d094-82fc-43d2-a9cd-a670b1cab2e7"
      },
      "source": [
        "inputs.shape[0]"
      ],
      "execution_count": 44,
      "outputs": [
        {
          "output_type": "execute_result",
          "data": {
            "text/plain": [
              "20"
            ]
          },
          "metadata": {
            "tags": []
          },
          "execution_count": 44
        }
      ]
    },
    {
      "cell_type": "code",
      "metadata": {
        "colab": {
          "base_uri": "https://localhost:8080/",
          "height": 283
        },
        "id": "MCewYdOTRDIb",
        "outputId": "f267a9fd-bc0a-46bc-f7f2-581f06dd0d21"
      },
      "source": [
        "plt.imshow(gcam_image.squeeze(), cmap='rainbow')"
      ],
      "execution_count": 43,
      "outputs": [
        {
          "output_type": "execute_result",
          "data": {
            "text/plain": [
              "<matplotlib.image.AxesImage at 0x7ff031469a90>"
            ]
          },
          "metadata": {
            "tags": []
          },
          "execution_count": 43
        },
        {
          "output_type": "display_data",
          "data": {
            "image/png": "[encoded data removed]",
            "text/plain": [
              "<Figure size 432x288 with 1 Axes>"
            ]
          },
          "metadata": {
            "tags": [],
            "needs_background": "light"
          }
        }
      ]
    },
    {
      "cell_type": "code",
      "metadata": {
        "id": "XtvLiaJACN4P"
      },
      "source": [
        "# gcam = gcam.numpy()\n",
        "# print(input_image.shape)\n",
        "# input_image = input_image.numpy()\n",
        "cmap = cm.jet_r(gcam)[..., :3] #* 255.0\n",
        "gcam_image = (cmap.astype(np.float) + input_image2.astype(np.float)) / 2"
      ],
      "execution_count": 141,
      "outputs": []
    },
    {
      "cell_type": "code",
      "metadata": {
        "id": "fVQmuRPYFsts"
      },
      "source": [
        "gcam_image = cmap.astype(np.float)"
      ],
      "execution_count": 111,
      "outputs": []
    },
    {
      "cell_type": "code",
      "metadata": {
        "colab": {
          "base_uri": "https://localhost:8080/"
        },
        "id": "7TcfyCBaA7fU",
        "outputId": "90593019-034c-4ca9-ae44-c8ffd9e162e4"
      },
      "source": [
        "print(gcam.shape)"
      ],
      "execution_count": 98,
      "outputs": [
        {
          "output_type": "stream",
          "text": [
            "torch.Size([1, 1, 32, 32])\n"
          ],
          "name": "stdout"
        }
      ]
    },
    {
      "cell_type": "code",
      "metadata": {
        "id": "Ps7A9YO9BxeV"
      },
      "source": [
        "gcam_back = gcam"
      ],
      "execution_count": 99,
      "outputs": []
    },
    {
      "cell_type": "code",
      "metadata": {
        "id": "Mb_0GMPhBtj7"
      },
      "source": [
        "B, C, H, W = gcam.shape\n",
        "gcam = gcam.view(B, -1)\n",
        "gcam -= gcam.min(dim=1, keepdim=True)[0]\n",
        "gcam /= gcam.max(dim=1, keepdim=True)[0]\n",
        "gcam = gcam.view(B, C, H, W)"
      ],
      "execution_count": 100,
      "outputs": []
    },
    {
      "cell_type": "code",
      "metadata": {
        "id": "8So7vkUSB2FT"
      },
      "source": [
        "gcam2 = gcam.squeeze()"
      ],
      "execution_count": 107,
      "outputs": []
    },
    {
      "cell_type": "code",
      "metadata": {
        "colab": {
          "base_uri": "https://localhost:8080/"
        },
        "id": "t8qgJRHbCGU9",
        "outputId": "5553cb5e-85c5-4807-aceb-bb8906d03e9e"
      },
      "source": [
        "gcam2.shape"
      ],
      "execution_count": 108,
      "outputs": [
        {
          "output_type": "execute_result",
          "data": {
            "text/plain": [
              "torch.Size([32, 32])"
            ]
          },
          "metadata": {
            "tags": []
          },
          "execution_count": 108
        }
      ]
    },
    {
      "cell_type": "code",
      "metadata": {
        "id": "DuYtrBmQ0NJF"
      },
      "source": [
        "gcam_image = gcam.generate(inputs[0], inputs.shape[2:], 0)"
      ],
      "execution_count": null,
      "outputs": []
    },
    {
      "cell_type": "code",
      "metadata": {
        "id": "ypmrxGkW6pit"
      },
      "source": [
        "raw_image = cv2.imread('1915.jpg')\n",
        "raw_image = cv2.resize(raw_image, (32,) * 2)\n",
        "image = transforms.Compose(\n",
        "    [\n",
        "        transforms.ToTensor(),\n",
        "        transforms.Normalize(mean=[0.485, 0.456, 0.406], std=[0.229, 0.224, 0.225]),\n",
        "    ]\n",
        ")(raw_image[..., ::-1].copy())\n"
      ],
      "execution_count": null,
      "outputs": []
    },
    {
      "cell_type": "code",
      "metadata": {
        "id": "bA2kLHglEeby"
      },
      "source": [
        "\n",
        "def printnorm(self, input, output):\n",
        "    # input is a tuple of packed inputs\n",
        "    # output is a Tensor. output.data is the Tensor we are interested\n",
        "    global map\n",
        "    map = output.detach()\n",
        "    print(map)\n",
        "    print('Inside ' + self.__class__.__name__ + ' forward')\n",
        "    print('')\n",
        "    print('input: ', type(input))\n",
        "    print('input[0]: ', type(input[0]))\n",
        "    print('output: ', type(output))\n",
        "    print('')\n",
        "    print('input size:', input[0].size())\n",
        "    print('output size:', output.data.size())\n",
        "    print('output norm:', output.data.norm())\n",
        "\n",
        "def printgradnorm(self, grad_input, grad_output):\n",
        "    global grad\n",
        "    grad = grad_output[0].detach()\n",
        "    print('Inside ' + self.__class__.__name__ + ' backward')\n",
        "    print('Inside class:' + self.__class__.__name__)\n",
        "    print('')\n",
        "    print('grad_input: ', type(grad_input))\n",
        "    print('grad_input[0]: ', type(grad_input[0]))\n",
        "    print('grad_output: ', type(grad_output))\n",
        "    print('grad_output[0]: ', type(grad_output[0]))\n",
        "    print('')\n",
        "    print('grad_input size:', grad_input[0].size())\n",
        "    print('grad_output size:', grad_output[0].size())\n",
        "    print('grad_input norm:', grad_input[0].norm())\n",
        "\n",
        "\n",
        "\n",
        "\n",
        "handle_fw = net_18.layer4[1].register_forward_hook(printnorm)\n",
        "handle_bw = net_18.layer4[1].register_backward_hook(printgradnorm)\n",
        "net_18 = net_18.cpu()\n",
        "out = net_18(input)\n",
        "print(out.size())\n",
        "err = loss_fn(out, target)\n",
        "err.backward()\n",
        "\n",
        "# handle_fw.remove()\n",
        "# handle_bw.remove()"
      ],
      "execution_count": null,
      "outputs": []
    },
    {
      "cell_type": "code",
      "metadata": {
        "id": "qBPOZ3MW3kM_"
      },
      "source": [
        "image_shape = input.shape[2:]"
      ],
      "execution_count": null,
      "outputs": []
    },
    {
      "cell_type": "code",
      "metadata": {
        "id": "8UgRChTc03u8"
      },
      "source": [
        "grad"
      ],
      "execution_count": null,
      "outputs": []
    },
    {
      "cell_type": "code",
      "metadata": {
        "id": "HRW00LyQz-_A"
      },
      "source": [
        "# def generate(self, target_layer):\n",
        "    # fmaps = self._find(self.fmap_pool, target_layer)\n",
        "    # grads = self._find(self.grad_pool, target_layer)\n",
        "weights = F.adaptive_avg_pool2d(grad, 1)\n",
        "print(weights.shape)\n",
        "\n",
        "gcam = torch.mul(map, weights).sum(dim=1, keepdim=True)\n",
        "print(weights.shape)\n",
        "gcam = F.relu(gcam)\n",
        "gcam = F.interpolate(\n",
        "    gcam, image_shape, mode=\"bilinear\", align_corners=False\n",
        ")\n",
        "\n",
        "B, C, H, W = gcam.shape\n",
        "gcam = gcam.view(B, -1)\n",
        "gcam -= gcam.min(dim=1, keepdim=True)[0]\n",
        "gcam /= gcam.max(dim=1, keepdim=True)[0]\n",
        "gcam = gcam.view(B, C, H, W)"
      ],
      "execution_count": null,
      "outputs": []
    },
    {
      "cell_type": "code",
      "metadata": {
        "id": "n7onsm3K4bR2"
      },
      "source": [
        "gcam.shape"
      ],
      "execution_count": null,
      "outputs": []
    },
    {
      "cell_type": "code",
      "metadata": {
        "id": "5AspSdUv9Fr3"
      },
      "source": [
        "# gcam = alpha * cmap + (1 - alpha) * raw_image"
      ],
      "execution_count": null,
      "outputs": []
    },
    {
      "cell_type": "code",
      "metadata": {
        "id": "QXxkRzzY9dWv"
      },
      "source": [
        "import matplotlib.cm as cm"
      ],
      "execution_count": null,
      "outputs": []
    },
    {
      "cell_type": "code",
      "metadata": {
        "id": "1_HXPVJu9XlN"
      },
      "source": [
        "gcam = gcam.numpy()\n",
        "cmap = cm.jet_r(gcam)[..., :3] * 255.0\n",
        "# cmap = cm.jet_r(gcam)[..., :3] * 255.0"
      ],
      "execution_count": null,
      "outputs": []
    },
    {
      "cell_type": "code",
      "metadata": {
        "id": "pmVd9H1r_oIR"
      },
      "source": [
        "gcam = (cmap.astype(np.float) + raw_image.astype(np.float)) / 2"
      ],
      "execution_count": null,
      "outputs": []
    },
    {
      "cell_type": "code",
      "metadata": {
        "id": "BdLoRYv294Im"
      },
      "source": [
        "alpha.shape"
      ],
      "execution_count": null,
      "outputs": []
    },
    {
      "cell_type": "code",
      "metadata": {
        "id": "iRWvPBhT-Ry4"
      },
      "source": [
        "cmap.shape"
      ],
      "execution_count": null,
      "outputs": []
    },
    {
      "cell_type": "code",
      "metadata": {
        "id": "_sDQBZW85ySm"
      },
      "source": [
        "gcam_image = gcam.squeeze()"
      ],
      "execution_count": 123,
      "outputs": []
    },
    {
      "cell_type": "code",
      "metadata": {
        "id": "4SnqSfzfIS-5"
      },
      "source": [
        "g = gcam_image.squeeze()"
      ],
      "execution_count": 144,
      "outputs": []
    },
    {
      "cell_type": "code",
      "metadata": {
        "id": "u4g-JB5FK6sB"
      },
      "source": [
        "g"
      ],
      "execution_count": null,
      "outputs": []
    },
    {
      "cell_type": "code",
      "metadata": {
        "colab": {
          "base_uri": "https://localhost:8080/",
          "height": 0
        },
        "id": "6TEcTfEe4cMr",
        "outputId": "cafdb04b-ad3f-4d44-bc24-b00f50e530f7"
      },
      "source": [
        "plt.imshow((g), cmap='rainbow')"
      ],
      "execution_count": 145,
      "outputs": [
        {
          "output_type": "execute_result",
          "data": {
            "text/plain": [
              "<matplotlib.image.AxesImage at 0x7f2969e2c450>"
            ]
          },
          "metadata": {
            "tags": []
          },
          "execution_count": 145
        },
        {
          "output_type": "display_data",
          "data": {
            "image/png": "[encoded data removed]",
            "text/plain": [
              "<Figure size 432x288 with 1 Axes>"
            ]
          },
          "metadata": {
            "tags": [],
            "needs_background": "light"
          }
        }
      ]
    },
    {
      "cell_type": "code",
      "metadata": {
        "id": "miWQLkV8523H"
      },
      "source": [
        "out"
      ],
      "execution_count": null,
      "outputs": []
    },
    {
      "cell_type": "code",
      "metadata": {
        "id": "K5kOMfvo_59_"
      },
      "source": [
        "target.view_as(out)"
      ],
      "execution_count": null,
      "outputs": []
    },
    {
      "cell_type": "code",
      "metadata": {
        "id": "7VxEbGYOB3u_"
      },
      "source": [
        "class GradCAM2():\n",
        "    def __init__(self, model_layer):\n",
        "        self.fmap = None\n",
        "        self.grad = None\n",
        "        #Register the forward and backward hooks\n",
        "        \n",
        "\n",
        "        handle_fw = model_layer.register_forward_hook(self.fwd_hook)\n",
        "        handle_bw = model_layer.register_backward_hook(self.bkw_hook)\n",
        "        self.handles = [handle_fw, handle_bw]\n",
        "    \n",
        "    def fwd_hook(self, module, input, output):\n",
        "        print(module)\n",
        "        self.fmap = output.detach()\n",
        "        print('Inside ' + self.__class__.__name__ + ' forward')\n",
        "        print('')\n",
        "        print('input: ', type(input))\n",
        "        print('input[0]: ', type(input[0]))\n",
        "        print('output: ', type(output))\n",
        "        print('')\n",
        "        print('input size:', input[0].size())\n",
        "        print('output size:', output.data.size())\n",
        "        print('output norm:', output.data.norm())\n",
        "\n",
        "    def bkw_hook(self, module, grad_input, grad_output):\n",
        "        self.grad = grad_output[0].detach()\n",
        "        print('Inside ' + self.__class__.__name__ + ' backward')\n",
        "        print('')\n",
        "        print('grad_input: ', type(grad_input))\n",
        "        print('grad_input[0]: ', type(grad_input[0]))\n",
        "        print('grad_output: ', type(grad_output))\n",
        "        print('grad_output[0]: ', type(grad_output[0]))\n",
        "        print('')\n",
        "        print('grad_input size:', grad_input[0].size())\n",
        "        print('grad_output size:', grad_output[0].size())\n",
        "        print('grad_input norm:', grad_input[0].norm())\n",
        "        print(self.grad.shape)\n",
        "\n",
        "    def remove_hooks(self):\n",
        "        for handle in self.handles:\n",
        "            handle.remove()\n",
        "\n",
        "    def generate(self, input_image, input_shape):\n",
        "        weights = F.adaptive_avg_pool2d(self.grad, 1)\n",
        "        print(weights.shape)\n",
        "\n",
        "        gcam = torch.mul(self.fmap, weights).sum(dim=1, keepdim=True)\n",
        "        print(weights.shape)\n",
        "        gcam = F.relu(gcam)\n",
        "        gcam = F.interpolate(\n",
        "            gcam, image_shape, mode=\"bilinear\", align_corners=False\n",
        "        )\n",
        "\n",
        "        B, C, H, W = gcam.shape\n",
        "        gcam = gcam.view(B, -1)\n",
        "        gcam -= gcam.min(dim=1, keepdim=True)[0]\n",
        "        gcam /= gcam.max(dim=1, keepdim=True)[0]\n",
        "        gcam = gcam.view(B, C, H, W)\n",
        "\n",
        "        #get the heatmap\n",
        "        gcam = gcam.numpy()\n",
        "        cmap = cm.jet_r(gcam)[..., :3] * 255.0\n",
        "        gcam_image = (cmap.astype(np.float) + input_image.astype(np.float)) / 2\n",
        "\n",
        "        return gcam_image"
      ],
      "execution_count": 166,
      "outputs": []
    }
  ]
}